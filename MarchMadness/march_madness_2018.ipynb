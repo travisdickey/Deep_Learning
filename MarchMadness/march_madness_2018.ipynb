{
 "cells": [
  {
   "cell_type": "code",
   "execution_count": 1,
   "metadata": {},
   "outputs": [],
   "source": [
    "% matplotlib inline\n",
    "% reload_ext autoreload\n",
    "% autoreload 2"
   ]
  },
  {
   "cell_type": "code",
   "execution_count": 2,
   "metadata": {},
   "outputs": [],
   "source": [
    "import pandas as pd\n",
    "import numpy as np\n",
    "from IPython.display import HTML\n",
    "\n",
    "from sklearn.linear_model import LogisticRegression\n",
    "import matplotlib.pyplot as plt\n",
    "from sklearn.utils import shuffle\n",
    "from sklearn.model_selection import GridSearchCV"
   ]
  },
  {
   "cell_type": "code",
   "execution_count": 3,
   "metadata": {},
   "outputs": [],
   "source": [
    "from fastai.structured import *\n",
    "from fastai.column_data import *\n",
    "from fastai.imports import *\n",
    "np.set_printoptions(threshold=50, edgeitems=20)"
   ]
  },
  {
   "cell_type": "code",
   "execution_count": 4,
   "metadata": {},
   "outputs": [],
   "source": [
    "from sklearn import metrics\n",
    "from sklearn.linear_model import LinearRegression, Ridge, RidgeCV, Lasso, LassoCV\n",
    "from pandas_summary import DataFrameSummary\n",
    "from sklearn.ensemble import RandomForestRegressor, RandomForestClassifier\n",
    "from sklearn.model_selection import StratifiedShuffleSplit"
   ]
  },
  {
   "cell_type": "code",
   "execution_count": 5,
   "metadata": {},
   "outputs": [],
   "source": [
    "from fastai.metrics import *\n",
    "from math import pi\n",
    "from datetime import timedelta"
   ]
  },
  {
   "cell_type": "code",
   "execution_count": 24,
   "metadata": {},
   "outputs": [],
   "source": [
    "#PATH = 'data/ncaa/DataFiles/'\n",
    "PATH = 'data/ncaa/DataFiles/2018/'\n",
    "#PATH = 'data/women_ncaa/'"
   ]
  },
  {
   "cell_type": "code",
   "execution_count": 25,
   "metadata": {},
   "outputs": [
    {
     "data": {
      "text/plain": [
       "['MasseyOrdinals_thruSeason2018_Day128.csv',\n",
       " 'Stage2UpdatedDataFiles.zip',\n",
       " 'Seasons.csv',\n",
       " 'RegularSeasonDetailedResultsEnriched.csv',\n",
       " 'ConferenceTourneyGames.csv',\n",
       " 'NCAATourneySlots.csv',\n",
       " 'NCAATourneySeeds.csv',\n",
       " 'RegularSeasonCompactResults.csv',\n",
       " 'GameCities.csv',\n",
       " 'SampleSubmissionStage2.csv',\n",
       " 'Cities.csv',\n",
       " 'RegularSeasonDetailedResults.csv',\n",
       " 'Seasons_SampleTourney2018.csv',\n",
       " 'SampleTourney2018.zip',\n",
       " 'models',\n",
       " 'SampleSubmissionStage2_SampleTourney2018.csv',\n",
       " 'TeamCoaches.csv',\n",
       " 'MasseyOrdinals_thruSeason2018_Day128.zip',\n",
       " 'tmp',\n",
       " 'NCAATourneySlots_SampleTourney2018.csv',\n",
       " 'Stage2UnchangedDataFiles.zip',\n",
       " 'Bracket_SampleTourney2018.png',\n",
       " 'NCAATourneySeeds_SampleTourney2018.csv']"
      ]
     },
     "execution_count": 25,
     "metadata": {},
     "output_type": "execute_result"
    }
   ],
   "source": [
    "os.listdir(PATH)"
   ]
  },
  {
   "cell_type": "code",
   "execution_count": 26,
   "metadata": {},
   "outputs": [],
   "source": [
    "table_names = ['MasseyOrdinals_thruSeason2018_Day128', 'Seasons', \n",
    "               'NCAATourneySeeds', 'SampleSubmissionStage2', 'TeamCoaches']"
   ]
  },
  {
   "cell_type": "code",
   "execution_count": 27,
   "metadata": {},
   "outputs": [],
   "source": [
    "tables = [pd.read_csv(f'{PATH}{fname}.csv', low_memory=False) for fname in table_names]"
   ]
  },
  {
   "cell_type": "code",
   "execution_count": 28,
   "metadata": {},
   "outputs": [
    {
     "data": {
      "text/html": [
       "<div>\n",
       "<style scoped>\n",
       "    .dataframe tbody tr th:only-of-type {\n",
       "        vertical-align: middle;\n",
       "    }\n",
       "\n",
       "    .dataframe tbody tr th {\n",
       "        vertical-align: top;\n",
       "    }\n",
       "\n",
       "    .dataframe thead th {\n",
       "        text-align: right;\n",
       "    }\n",
       "</style>\n",
       "<table border=\"1\" class=\"dataframe\">\n",
       "  <thead>\n",
       "    <tr style=\"text-align: right;\">\n",
       "      <th></th>\n",
       "      <th>Season</th>\n",
       "      <th>RankingDayNum</th>\n",
       "      <th>SystemName</th>\n",
       "      <th>TeamID</th>\n",
       "      <th>OrdinalRank</th>\n",
       "    </tr>\n",
       "  </thead>\n",
       "  <tbody>\n",
       "    <tr>\n",
       "      <th>0</th>\n",
       "      <td>2003</td>\n",
       "      <td>35</td>\n",
       "      <td>SEL</td>\n",
       "      <td>1102</td>\n",
       "      <td>159</td>\n",
       "    </tr>\n",
       "    <tr>\n",
       "      <th>1</th>\n",
       "      <td>2003</td>\n",
       "      <td>35</td>\n",
       "      <td>SEL</td>\n",
       "      <td>1103</td>\n",
       "      <td>229</td>\n",
       "    </tr>\n",
       "    <tr>\n",
       "      <th>2</th>\n",
       "      <td>2003</td>\n",
       "      <td>35</td>\n",
       "      <td>SEL</td>\n",
       "      <td>1104</td>\n",
       "      <td>12</td>\n",
       "    </tr>\n",
       "    <tr>\n",
       "      <th>3</th>\n",
       "      <td>2003</td>\n",
       "      <td>35</td>\n",
       "      <td>SEL</td>\n",
       "      <td>1105</td>\n",
       "      <td>314</td>\n",
       "    </tr>\n",
       "    <tr>\n",
       "      <th>4</th>\n",
       "      <td>2003</td>\n",
       "      <td>35</td>\n",
       "      <td>SEL</td>\n",
       "      <td>1106</td>\n",
       "      <td>260</td>\n",
       "    </tr>\n",
       "  </tbody>\n",
       "</table>\n",
       "</div>"
      ],
      "text/plain": [
       "   Season  RankingDayNum SystemName  TeamID  OrdinalRank\n",
       "0    2003             35        SEL    1102          159\n",
       "1    2003             35        SEL    1103          229\n",
       "2    2003             35        SEL    1104           12\n",
       "3    2003             35        SEL    1105          314\n",
       "4    2003             35        SEL    1106          260"
      ]
     },
     "metadata": {},
     "output_type": "display_data"
    },
    {
     "data": {
      "text/html": [
       "<div>\n",
       "<style scoped>\n",
       "    .dataframe tbody tr th:only-of-type {\n",
       "        vertical-align: middle;\n",
       "    }\n",
       "\n",
       "    .dataframe tbody tr th {\n",
       "        vertical-align: top;\n",
       "    }\n",
       "\n",
       "    .dataframe thead th {\n",
       "        text-align: right;\n",
       "    }\n",
       "</style>\n",
       "<table border=\"1\" class=\"dataframe\">\n",
       "  <thead>\n",
       "    <tr style=\"text-align: right;\">\n",
       "      <th></th>\n",
       "      <th>Season</th>\n",
       "      <th>DayZero</th>\n",
       "      <th>RegionW</th>\n",
       "      <th>RegionX</th>\n",
       "      <th>RegionY</th>\n",
       "      <th>RegionZ</th>\n",
       "    </tr>\n",
       "  </thead>\n",
       "  <tbody>\n",
       "    <tr>\n",
       "      <th>0</th>\n",
       "      <td>1985</td>\n",
       "      <td>10/29/1984</td>\n",
       "      <td>East</td>\n",
       "      <td>West</td>\n",
       "      <td>Midwest</td>\n",
       "      <td>Southeast</td>\n",
       "    </tr>\n",
       "    <tr>\n",
       "      <th>1</th>\n",
       "      <td>1986</td>\n",
       "      <td>10/28/1985</td>\n",
       "      <td>East</td>\n",
       "      <td>Midwest</td>\n",
       "      <td>Southeast</td>\n",
       "      <td>West</td>\n",
       "    </tr>\n",
       "    <tr>\n",
       "      <th>2</th>\n",
       "      <td>1987</td>\n",
       "      <td>10/27/1986</td>\n",
       "      <td>East</td>\n",
       "      <td>Southeast</td>\n",
       "      <td>Midwest</td>\n",
       "      <td>West</td>\n",
       "    </tr>\n",
       "    <tr>\n",
       "      <th>3</th>\n",
       "      <td>1988</td>\n",
       "      <td>11/2/1987</td>\n",
       "      <td>East</td>\n",
       "      <td>Midwest</td>\n",
       "      <td>Southeast</td>\n",
       "      <td>West</td>\n",
       "    </tr>\n",
       "    <tr>\n",
       "      <th>4</th>\n",
       "      <td>1989</td>\n",
       "      <td>10/31/1988</td>\n",
       "      <td>East</td>\n",
       "      <td>West</td>\n",
       "      <td>Midwest</td>\n",
       "      <td>Southeast</td>\n",
       "    </tr>\n",
       "  </tbody>\n",
       "</table>\n",
       "</div>"
      ],
      "text/plain": [
       "   Season     DayZero RegionW    RegionX    RegionY    RegionZ\n",
       "0    1985  10/29/1984    East       West    Midwest  Southeast\n",
       "1    1986  10/28/1985    East    Midwest  Southeast       West\n",
       "2    1987  10/27/1986    East  Southeast    Midwest       West\n",
       "3    1988   11/2/1987    East    Midwest  Southeast       West\n",
       "4    1989  10/31/1988    East       West    Midwest  Southeast"
      ]
     },
     "metadata": {},
     "output_type": "display_data"
    },
    {
     "data": {
      "text/html": [
       "<div>\n",
       "<style scoped>\n",
       "    .dataframe tbody tr th:only-of-type {\n",
       "        vertical-align: middle;\n",
       "    }\n",
       "\n",
       "    .dataframe tbody tr th {\n",
       "        vertical-align: top;\n",
       "    }\n",
       "\n",
       "    .dataframe thead th {\n",
       "        text-align: right;\n",
       "    }\n",
       "</style>\n",
       "<table border=\"1\" class=\"dataframe\">\n",
       "  <thead>\n",
       "    <tr style=\"text-align: right;\">\n",
       "      <th></th>\n",
       "      <th>Season</th>\n",
       "      <th>Seed</th>\n",
       "      <th>TeamID</th>\n",
       "    </tr>\n",
       "  </thead>\n",
       "  <tbody>\n",
       "    <tr>\n",
       "      <th>0</th>\n",
       "      <td>1985</td>\n",
       "      <td>W01</td>\n",
       "      <td>1207</td>\n",
       "    </tr>\n",
       "    <tr>\n",
       "      <th>1</th>\n",
       "      <td>1985</td>\n",
       "      <td>W02</td>\n",
       "      <td>1210</td>\n",
       "    </tr>\n",
       "    <tr>\n",
       "      <th>2</th>\n",
       "      <td>1985</td>\n",
       "      <td>W03</td>\n",
       "      <td>1228</td>\n",
       "    </tr>\n",
       "    <tr>\n",
       "      <th>3</th>\n",
       "      <td>1985</td>\n",
       "      <td>W04</td>\n",
       "      <td>1260</td>\n",
       "    </tr>\n",
       "    <tr>\n",
       "      <th>4</th>\n",
       "      <td>1985</td>\n",
       "      <td>W05</td>\n",
       "      <td>1374</td>\n",
       "    </tr>\n",
       "  </tbody>\n",
       "</table>\n",
       "</div>"
      ],
      "text/plain": [
       "   Season Seed  TeamID\n",
       "0    1985  W01    1207\n",
       "1    1985  W02    1210\n",
       "2    1985  W03    1228\n",
       "3    1985  W04    1260\n",
       "4    1985  W05    1374"
      ]
     },
     "metadata": {},
     "output_type": "display_data"
    },
    {
     "data": {
      "text/html": [
       "<div>\n",
       "<style scoped>\n",
       "    .dataframe tbody tr th:only-of-type {\n",
       "        vertical-align: middle;\n",
       "    }\n",
       "\n",
       "    .dataframe tbody tr th {\n",
       "        vertical-align: top;\n",
       "    }\n",
       "\n",
       "    .dataframe thead th {\n",
       "        text-align: right;\n",
       "    }\n",
       "</style>\n",
       "<table border=\"1\" class=\"dataframe\">\n",
       "  <thead>\n",
       "    <tr style=\"text-align: right;\">\n",
       "      <th></th>\n",
       "      <th>ID</th>\n",
       "      <th>Pred</th>\n",
       "    </tr>\n",
       "  </thead>\n",
       "  <tbody>\n",
       "    <tr>\n",
       "      <th>0</th>\n",
       "      <td>2018_1104_1112</td>\n",
       "      <td>0.5</td>\n",
       "    </tr>\n",
       "    <tr>\n",
       "      <th>1</th>\n",
       "      <td>2018_1104_1113</td>\n",
       "      <td>0.5</td>\n",
       "    </tr>\n",
       "    <tr>\n",
       "      <th>2</th>\n",
       "      <td>2018_1104_1116</td>\n",
       "      <td>0.5</td>\n",
       "    </tr>\n",
       "    <tr>\n",
       "      <th>3</th>\n",
       "      <td>2018_1104_1120</td>\n",
       "      <td>0.5</td>\n",
       "    </tr>\n",
       "    <tr>\n",
       "      <th>4</th>\n",
       "      <td>2018_1104_1137</td>\n",
       "      <td>0.5</td>\n",
       "    </tr>\n",
       "  </tbody>\n",
       "</table>\n",
       "</div>"
      ],
      "text/plain": [
       "               ID  Pred\n",
       "0  2018_1104_1112   0.5\n",
       "1  2018_1104_1113   0.5\n",
       "2  2018_1104_1116   0.5\n",
       "3  2018_1104_1120   0.5\n",
       "4  2018_1104_1137   0.5"
      ]
     },
     "metadata": {},
     "output_type": "display_data"
    },
    {
     "data": {
      "text/html": [
       "<div>\n",
       "<style scoped>\n",
       "    .dataframe tbody tr th:only-of-type {\n",
       "        vertical-align: middle;\n",
       "    }\n",
       "\n",
       "    .dataframe tbody tr th {\n",
       "        vertical-align: top;\n",
       "    }\n",
       "\n",
       "    .dataframe thead th {\n",
       "        text-align: right;\n",
       "    }\n",
       "</style>\n",
       "<table border=\"1\" class=\"dataframe\">\n",
       "  <thead>\n",
       "    <tr style=\"text-align: right;\">\n",
       "      <th></th>\n",
       "      <th>Season</th>\n",
       "      <th>TeamID</th>\n",
       "      <th>FirstDayNum</th>\n",
       "      <th>LastDayNum</th>\n",
       "      <th>CoachName</th>\n",
       "    </tr>\n",
       "  </thead>\n",
       "  <tbody>\n",
       "    <tr>\n",
       "      <th>0</th>\n",
       "      <td>1985</td>\n",
       "      <td>1102</td>\n",
       "      <td>0</td>\n",
       "      <td>154</td>\n",
       "      <td>reggie_minton</td>\n",
       "    </tr>\n",
       "    <tr>\n",
       "      <th>1</th>\n",
       "      <td>1985</td>\n",
       "      <td>1103</td>\n",
       "      <td>0</td>\n",
       "      <td>154</td>\n",
       "      <td>bob_huggins</td>\n",
       "    </tr>\n",
       "    <tr>\n",
       "      <th>2</th>\n",
       "      <td>1985</td>\n",
       "      <td>1104</td>\n",
       "      <td>0</td>\n",
       "      <td>154</td>\n",
       "      <td>wimp_sanderson</td>\n",
       "    </tr>\n",
       "    <tr>\n",
       "      <th>3</th>\n",
       "      <td>1985</td>\n",
       "      <td>1106</td>\n",
       "      <td>0</td>\n",
       "      <td>154</td>\n",
       "      <td>james_oliver</td>\n",
       "    </tr>\n",
       "    <tr>\n",
       "      <th>4</th>\n",
       "      <td>1985</td>\n",
       "      <td>1108</td>\n",
       "      <td>0</td>\n",
       "      <td>154</td>\n",
       "      <td>davey_whitney</td>\n",
       "    </tr>\n",
       "  </tbody>\n",
       "</table>\n",
       "</div>"
      ],
      "text/plain": [
       "   Season  TeamID  FirstDayNum  LastDayNum       CoachName\n",
       "0    1985    1102            0         154   reggie_minton\n",
       "1    1985    1103            0         154     bob_huggins\n",
       "2    1985    1104            0         154  wimp_sanderson\n",
       "3    1985    1106            0         154    james_oliver\n",
       "4    1985    1108            0         154   davey_whitney"
      ]
     },
     "metadata": {},
     "output_type": "display_data"
    }
   ],
   "source": [
    "for t in tables: display(t.head())"
   ]
  },
  {
   "cell_type": "code",
   "execution_count": 29,
   "metadata": {},
   "outputs": [
    {
     "data": {
      "text/html": [
       "<div>\n",
       "<style scoped>\n",
       "    .dataframe tbody tr th:only-of-type {\n",
       "        vertical-align: middle;\n",
       "    }\n",
       "\n",
       "    .dataframe tbody tr th {\n",
       "        vertical-align: top;\n",
       "    }\n",
       "\n",
       "    .dataframe thead th {\n",
       "        text-align: right;\n",
       "    }\n",
       "</style>\n",
       "<table border=\"1\" class=\"dataframe\">\n",
       "  <thead>\n",
       "    <tr style=\"text-align: right;\">\n",
       "      <th></th>\n",
       "      <th>Season</th>\n",
       "      <th>RankingDayNum</th>\n",
       "      <th>SystemName</th>\n",
       "      <th>TeamID</th>\n",
       "      <th>OrdinalRank</th>\n",
       "    </tr>\n",
       "  </thead>\n",
       "  <tbody>\n",
       "    <tr>\n",
       "      <th>count</th>\n",
       "      <td>3.47033e+06</td>\n",
       "      <td>3.47033e+06</td>\n",
       "      <td>NaN</td>\n",
       "      <td>3.47033e+06</td>\n",
       "      <td>3.47033e+06</td>\n",
       "    </tr>\n",
       "    <tr>\n",
       "      <th>mean</th>\n",
       "      <td>2011.83</td>\n",
       "      <td>86.6081</td>\n",
       "      <td>NaN</td>\n",
       "      <td>1284.31</td>\n",
       "      <td>171.13</td>\n",
       "    </tr>\n",
       "    <tr>\n",
       "      <th>std</th>\n",
       "      <td>4.3648</td>\n",
       "      <td>32.1656</td>\n",
       "      <td>NaN</td>\n",
       "      <td>104.354</td>\n",
       "      <td>100.143</td>\n",
       "    </tr>\n",
       "    <tr>\n",
       "      <th>min</th>\n",
       "      <td>2003</td>\n",
       "      <td>0</td>\n",
       "      <td>NaN</td>\n",
       "      <td>1101</td>\n",
       "      <td>1</td>\n",
       "    </tr>\n",
       "    <tr>\n",
       "      <th>25%</th>\n",
       "      <td>2009</td>\n",
       "      <td>64</td>\n",
       "      <td>NaN</td>\n",
       "      <td>1194</td>\n",
       "      <td>84</td>\n",
       "    </tr>\n",
       "    <tr>\n",
       "      <th>50%</th>\n",
       "      <td>2012</td>\n",
       "      <td>91</td>\n",
       "      <td>NaN</td>\n",
       "      <td>1283</td>\n",
       "      <td>171</td>\n",
       "    </tr>\n",
       "    <tr>\n",
       "      <th>75%</th>\n",
       "      <td>2016</td>\n",
       "      <td>114</td>\n",
       "      <td>NaN</td>\n",
       "      <td>1375</td>\n",
       "      <td>258</td>\n",
       "    </tr>\n",
       "    <tr>\n",
       "      <th>max</th>\n",
       "      <td>2018</td>\n",
       "      <td>133</td>\n",
       "      <td>NaN</td>\n",
       "      <td>1464</td>\n",
       "      <td>351</td>\n",
       "    </tr>\n",
       "    <tr>\n",
       "      <th>counts</th>\n",
       "      <td>3470328</td>\n",
       "      <td>3470328</td>\n",
       "      <td>3470328</td>\n",
       "      <td>3470328</td>\n",
       "      <td>3470328</td>\n",
       "    </tr>\n",
       "    <tr>\n",
       "      <th>uniques</th>\n",
       "      <td>16</td>\n",
       "      <td>90</td>\n",
       "      <td>166</td>\n",
       "      <td>355</td>\n",
       "      <td>351</td>\n",
       "    </tr>\n",
       "    <tr>\n",
       "      <th>missing</th>\n",
       "      <td>0</td>\n",
       "      <td>0</td>\n",
       "      <td>0</td>\n",
       "      <td>0</td>\n",
       "      <td>0</td>\n",
       "    </tr>\n",
       "    <tr>\n",
       "      <th>missing_perc</th>\n",
       "      <td>0%</td>\n",
       "      <td>0%</td>\n",
       "      <td>0%</td>\n",
       "      <td>0%</td>\n",
       "      <td>0%</td>\n",
       "    </tr>\n",
       "    <tr>\n",
       "      <th>types</th>\n",
       "      <td>numeric</td>\n",
       "      <td>numeric</td>\n",
       "      <td>categorical</td>\n",
       "      <td>numeric</td>\n",
       "      <td>numeric</td>\n",
       "    </tr>\n",
       "  </tbody>\n",
       "</table>\n",
       "</div>"
      ],
      "text/plain": [
       "                   Season RankingDayNum   SystemName       TeamID  OrdinalRank\n",
       "count         3.47033e+06   3.47033e+06          NaN  3.47033e+06  3.47033e+06\n",
       "mean              2011.83       86.6081          NaN      1284.31       171.13\n",
       "std                4.3648       32.1656          NaN      104.354      100.143\n",
       "min                  2003             0          NaN         1101            1\n",
       "25%                  2009            64          NaN         1194           84\n",
       "50%                  2012            91          NaN         1283          171\n",
       "75%                  2016           114          NaN         1375          258\n",
       "max                  2018           133          NaN         1464          351\n",
       "counts            3470328       3470328      3470328      3470328      3470328\n",
       "uniques                16            90          166          355          351\n",
       "missing                 0             0            0            0            0\n",
       "missing_perc           0%            0%           0%           0%           0%\n",
       "types             numeric       numeric  categorical      numeric      numeric"
      ]
     },
     "metadata": {},
     "output_type": "display_data"
    },
    {
     "data": {
      "text/html": [
       "<div>\n",
       "<style scoped>\n",
       "    .dataframe tbody tr th:only-of-type {\n",
       "        vertical-align: middle;\n",
       "    }\n",
       "\n",
       "    .dataframe tbody tr th {\n",
       "        vertical-align: top;\n",
       "    }\n",
       "\n",
       "    .dataframe thead th {\n",
       "        text-align: right;\n",
       "    }\n",
       "</style>\n",
       "<table border=\"1\" class=\"dataframe\">\n",
       "  <thead>\n",
       "    <tr style=\"text-align: right;\">\n",
       "      <th></th>\n",
       "      <th>Season</th>\n",
       "      <th>DayZero</th>\n",
       "      <th>RegionW</th>\n",
       "      <th>RegionX</th>\n",
       "      <th>RegionY</th>\n",
       "      <th>RegionZ</th>\n",
       "    </tr>\n",
       "  </thead>\n",
       "  <tbody>\n",
       "    <tr>\n",
       "      <th>count</th>\n",
       "      <td>34</td>\n",
       "      <td>NaN</td>\n",
       "      <td>NaN</td>\n",
       "      <td>NaN</td>\n",
       "      <td>NaN</td>\n",
       "      <td>NaN</td>\n",
       "    </tr>\n",
       "    <tr>\n",
       "      <th>mean</th>\n",
       "      <td>2001.5</td>\n",
       "      <td>NaN</td>\n",
       "      <td>NaN</td>\n",
       "      <td>NaN</td>\n",
       "      <td>NaN</td>\n",
       "      <td>NaN</td>\n",
       "    </tr>\n",
       "    <tr>\n",
       "      <th>std</th>\n",
       "      <td>9.95825</td>\n",
       "      <td>NaN</td>\n",
       "      <td>NaN</td>\n",
       "      <td>NaN</td>\n",
       "      <td>NaN</td>\n",
       "      <td>NaN</td>\n",
       "    </tr>\n",
       "    <tr>\n",
       "      <th>min</th>\n",
       "      <td>1985</td>\n",
       "      <td>NaN</td>\n",
       "      <td>NaN</td>\n",
       "      <td>NaN</td>\n",
       "      <td>NaN</td>\n",
       "      <td>NaN</td>\n",
       "    </tr>\n",
       "    <tr>\n",
       "      <th>25%</th>\n",
       "      <td>1993.25</td>\n",
       "      <td>NaN</td>\n",
       "      <td>NaN</td>\n",
       "      <td>NaN</td>\n",
       "      <td>NaN</td>\n",
       "      <td>NaN</td>\n",
       "    </tr>\n",
       "    <tr>\n",
       "      <th>50%</th>\n",
       "      <td>2001.5</td>\n",
       "      <td>NaN</td>\n",
       "      <td>NaN</td>\n",
       "      <td>NaN</td>\n",
       "      <td>NaN</td>\n",
       "      <td>NaN</td>\n",
       "    </tr>\n",
       "    <tr>\n",
       "      <th>75%</th>\n",
       "      <td>2009.75</td>\n",
       "      <td>NaN</td>\n",
       "      <td>NaN</td>\n",
       "      <td>NaN</td>\n",
       "      <td>NaN</td>\n",
       "      <td>NaN</td>\n",
       "    </tr>\n",
       "    <tr>\n",
       "      <th>max</th>\n",
       "      <td>2018</td>\n",
       "      <td>NaN</td>\n",
       "      <td>NaN</td>\n",
       "      <td>NaN</td>\n",
       "      <td>NaN</td>\n",
       "      <td>NaN</td>\n",
       "    </tr>\n",
       "    <tr>\n",
       "      <th>counts</th>\n",
       "      <td>34</td>\n",
       "      <td>34</td>\n",
       "      <td>34</td>\n",
       "      <td>34</td>\n",
       "      <td>34</td>\n",
       "      <td>34</td>\n",
       "    </tr>\n",
       "    <tr>\n",
       "      <th>uniques</th>\n",
       "      <td>34</td>\n",
       "      <td>34</td>\n",
       "      <td>3</td>\n",
       "      <td>7</td>\n",
       "      <td>6</td>\n",
       "      <td>7</td>\n",
       "    </tr>\n",
       "    <tr>\n",
       "      <th>missing</th>\n",
       "      <td>0</td>\n",
       "      <td>0</td>\n",
       "      <td>0</td>\n",
       "      <td>0</td>\n",
       "      <td>0</td>\n",
       "      <td>0</td>\n",
       "    </tr>\n",
       "    <tr>\n",
       "      <th>missing_perc</th>\n",
       "      <td>0%</td>\n",
       "      <td>0%</td>\n",
       "      <td>0%</td>\n",
       "      <td>0%</td>\n",
       "      <td>0%</td>\n",
       "      <td>0%</td>\n",
       "    </tr>\n",
       "    <tr>\n",
       "      <th>types</th>\n",
       "      <td>numeric</td>\n",
       "      <td>unique</td>\n",
       "      <td>categorical</td>\n",
       "      <td>categorical</td>\n",
       "      <td>categorical</td>\n",
       "      <td>categorical</td>\n",
       "    </tr>\n",
       "  </tbody>\n",
       "</table>\n",
       "</div>"
      ],
      "text/plain": [
       "               Season DayZero      RegionW      RegionX      RegionY  \\\n",
       "count              34     NaN          NaN          NaN          NaN   \n",
       "mean           2001.5     NaN          NaN          NaN          NaN   \n",
       "std           9.95825     NaN          NaN          NaN          NaN   \n",
       "min              1985     NaN          NaN          NaN          NaN   \n",
       "25%           1993.25     NaN          NaN          NaN          NaN   \n",
       "50%            2001.5     NaN          NaN          NaN          NaN   \n",
       "75%           2009.75     NaN          NaN          NaN          NaN   \n",
       "max              2018     NaN          NaN          NaN          NaN   \n",
       "counts             34      34           34           34           34   \n",
       "uniques            34      34            3            7            6   \n",
       "missing             0       0            0            0            0   \n",
       "missing_perc       0%      0%           0%           0%           0%   \n",
       "types         numeric  unique  categorical  categorical  categorical   \n",
       "\n",
       "                  RegionZ  \n",
       "count                 NaN  \n",
       "mean                  NaN  \n",
       "std                   NaN  \n",
       "min                   NaN  \n",
       "25%                   NaN  \n",
       "50%                   NaN  \n",
       "75%                   NaN  \n",
       "max                   NaN  \n",
       "counts                 34  \n",
       "uniques                 7  \n",
       "missing                 0  \n",
       "missing_perc           0%  \n",
       "types         categorical  "
      ]
     },
     "metadata": {},
     "output_type": "display_data"
    },
    {
     "data": {
      "text/html": [
       "<div>\n",
       "<style scoped>\n",
       "    .dataframe tbody tr th:only-of-type {\n",
       "        vertical-align: middle;\n",
       "    }\n",
       "\n",
       "    .dataframe tbody tr th {\n",
       "        vertical-align: top;\n",
       "    }\n",
       "\n",
       "    .dataframe thead th {\n",
       "        text-align: right;\n",
       "    }\n",
       "</style>\n",
       "<table border=\"1\" class=\"dataframe\">\n",
       "  <thead>\n",
       "    <tr style=\"text-align: right;\">\n",
       "      <th></th>\n",
       "      <th>Season</th>\n",
       "      <th>Seed</th>\n",
       "      <th>TeamID</th>\n",
       "    </tr>\n",
       "  </thead>\n",
       "  <tbody>\n",
       "    <tr>\n",
       "      <th>count</th>\n",
       "      <td>2218</td>\n",
       "      <td>NaN</td>\n",
       "      <td>2218</td>\n",
       "    </tr>\n",
       "    <tr>\n",
       "      <th>mean</th>\n",
       "      <td>2001.71</td>\n",
       "      <td>NaN</td>\n",
       "      <td>1291.6</td>\n",
       "    </tr>\n",
       "    <tr>\n",
       "      <th>std</th>\n",
       "      <td>9.85151</td>\n",
       "      <td>NaN</td>\n",
       "      <td>103.343</td>\n",
       "    </tr>\n",
       "    <tr>\n",
       "      <th>min</th>\n",
       "      <td>1985</td>\n",
       "      <td>NaN</td>\n",
       "      <td>1102</td>\n",
       "    </tr>\n",
       "    <tr>\n",
       "      <th>25%</th>\n",
       "      <td>1993</td>\n",
       "      <td>NaN</td>\n",
       "      <td>1208</td>\n",
       "    </tr>\n",
       "    <tr>\n",
       "      <th>50%</th>\n",
       "      <td>2002</td>\n",
       "      <td>NaN</td>\n",
       "      <td>1287</td>\n",
       "    </tr>\n",
       "    <tr>\n",
       "      <th>75%</th>\n",
       "      <td>2010</td>\n",
       "      <td>NaN</td>\n",
       "      <td>1387</td>\n",
       "    </tr>\n",
       "    <tr>\n",
       "      <th>max</th>\n",
       "      <td>2018</td>\n",
       "      <td>NaN</td>\n",
       "      <td>1463</td>\n",
       "    </tr>\n",
       "    <tr>\n",
       "      <th>counts</th>\n",
       "      <td>2218</td>\n",
       "      <td>2218</td>\n",
       "      <td>2218</td>\n",
       "    </tr>\n",
       "    <tr>\n",
       "      <th>uniques</th>\n",
       "      <td>34</td>\n",
       "      <td>90</td>\n",
       "      <td>298</td>\n",
       "    </tr>\n",
       "    <tr>\n",
       "      <th>missing</th>\n",
       "      <td>0</td>\n",
       "      <td>0</td>\n",
       "      <td>0</td>\n",
       "    </tr>\n",
       "    <tr>\n",
       "      <th>missing_perc</th>\n",
       "      <td>0%</td>\n",
       "      <td>0%</td>\n",
       "      <td>0%</td>\n",
       "    </tr>\n",
       "    <tr>\n",
       "      <th>types</th>\n",
       "      <td>numeric</td>\n",
       "      <td>categorical</td>\n",
       "      <td>numeric</td>\n",
       "    </tr>\n",
       "  </tbody>\n",
       "</table>\n",
       "</div>"
      ],
      "text/plain": [
       "               Season         Seed   TeamID\n",
       "count            2218          NaN     2218\n",
       "mean          2001.71          NaN   1291.6\n",
       "std           9.85151          NaN  103.343\n",
       "min              1985          NaN     1102\n",
       "25%              1993          NaN     1208\n",
       "50%              2002          NaN     1287\n",
       "75%              2010          NaN     1387\n",
       "max              2018          NaN     1463\n",
       "counts           2218         2218     2218\n",
       "uniques            34           90      298\n",
       "missing             0            0        0\n",
       "missing_perc       0%           0%       0%\n",
       "types         numeric  categorical  numeric"
      ]
     },
     "metadata": {},
     "output_type": "display_data"
    },
    {
     "data": {
      "text/html": [
       "<div>\n",
       "<style scoped>\n",
       "    .dataframe tbody tr th:only-of-type {\n",
       "        vertical-align: middle;\n",
       "    }\n",
       "\n",
       "    .dataframe tbody tr th {\n",
       "        vertical-align: top;\n",
       "    }\n",
       "\n",
       "    .dataframe thead th {\n",
       "        text-align: right;\n",
       "    }\n",
       "</style>\n",
       "<table border=\"1\" class=\"dataframe\">\n",
       "  <thead>\n",
       "    <tr style=\"text-align: right;\">\n",
       "      <th></th>\n",
       "      <th>ID</th>\n",
       "      <th>Pred</th>\n",
       "    </tr>\n",
       "  </thead>\n",
       "  <tbody>\n",
       "    <tr>\n",
       "      <th>count</th>\n",
       "      <td>NaN</td>\n",
       "      <td>2278</td>\n",
       "    </tr>\n",
       "    <tr>\n",
       "      <th>mean</th>\n",
       "      <td>NaN</td>\n",
       "      <td>0.5</td>\n",
       "    </tr>\n",
       "    <tr>\n",
       "      <th>std</th>\n",
       "      <td>NaN</td>\n",
       "      <td>0</td>\n",
       "    </tr>\n",
       "    <tr>\n",
       "      <th>min</th>\n",
       "      <td>NaN</td>\n",
       "      <td>0.5</td>\n",
       "    </tr>\n",
       "    <tr>\n",
       "      <th>25%</th>\n",
       "      <td>NaN</td>\n",
       "      <td>0.5</td>\n",
       "    </tr>\n",
       "    <tr>\n",
       "      <th>50%</th>\n",
       "      <td>NaN</td>\n",
       "      <td>0.5</td>\n",
       "    </tr>\n",
       "    <tr>\n",
       "      <th>75%</th>\n",
       "      <td>NaN</td>\n",
       "      <td>0.5</td>\n",
       "    </tr>\n",
       "    <tr>\n",
       "      <th>max</th>\n",
       "      <td>NaN</td>\n",
       "      <td>0.5</td>\n",
       "    </tr>\n",
       "    <tr>\n",
       "      <th>counts</th>\n",
       "      <td>2278</td>\n",
       "      <td>2278</td>\n",
       "    </tr>\n",
       "    <tr>\n",
       "      <th>uniques</th>\n",
       "      <td>2278</td>\n",
       "      <td>1</td>\n",
       "    </tr>\n",
       "    <tr>\n",
       "      <th>missing</th>\n",
       "      <td>0</td>\n",
       "      <td>0</td>\n",
       "    </tr>\n",
       "    <tr>\n",
       "      <th>missing_perc</th>\n",
       "      <td>0%</td>\n",
       "      <td>0%</td>\n",
       "    </tr>\n",
       "    <tr>\n",
       "      <th>types</th>\n",
       "      <td>unique</td>\n",
       "      <td>constant</td>\n",
       "    </tr>\n",
       "  </tbody>\n",
       "</table>\n",
       "</div>"
      ],
      "text/plain": [
       "                  ID      Pred\n",
       "count            NaN      2278\n",
       "mean             NaN       0.5\n",
       "std              NaN         0\n",
       "min              NaN       0.5\n",
       "25%              NaN       0.5\n",
       "50%              NaN       0.5\n",
       "75%              NaN       0.5\n",
       "max              NaN       0.5\n",
       "counts          2278      2278\n",
       "uniques         2278         1\n",
       "missing            0         0\n",
       "missing_perc      0%        0%\n",
       "types         unique  constant"
      ]
     },
     "metadata": {},
     "output_type": "display_data"
    },
    {
     "data": {
      "text/html": [
       "<div>\n",
       "<style scoped>\n",
       "    .dataframe tbody tr th:only-of-type {\n",
       "        vertical-align: middle;\n",
       "    }\n",
       "\n",
       "    .dataframe tbody tr th {\n",
       "        vertical-align: top;\n",
       "    }\n",
       "\n",
       "    .dataframe thead th {\n",
       "        text-align: right;\n",
       "    }\n",
       "</style>\n",
       "<table border=\"1\" class=\"dataframe\">\n",
       "  <thead>\n",
       "    <tr style=\"text-align: right;\">\n",
       "      <th></th>\n",
       "      <th>Season</th>\n",
       "      <th>TeamID</th>\n",
       "      <th>FirstDayNum</th>\n",
       "      <th>LastDayNum</th>\n",
       "      <th>CoachName</th>\n",
       "    </tr>\n",
       "  </thead>\n",
       "  <tbody>\n",
       "    <tr>\n",
       "      <th>count</th>\n",
       "      <td>10994</td>\n",
       "      <td>10994</td>\n",
       "      <td>10994</td>\n",
       "      <td>10994</td>\n",
       "      <td>NaN</td>\n",
       "    </tr>\n",
       "    <tr>\n",
       "      <th>mean</th>\n",
       "      <td>2002.21</td>\n",
       "      <td>1284.57</td>\n",
       "      <td>0.683009</td>\n",
       "      <td>153.189</td>\n",
       "      <td>NaN</td>\n",
       "    </tr>\n",
       "    <tr>\n",
       "      <th>std</th>\n",
       "      <td>9.77833</td>\n",
       "      <td>104.94</td>\n",
       "      <td>7.38518</td>\n",
       "      <td>8.61731</td>\n",
       "      <td>NaN</td>\n",
       "    </tr>\n",
       "    <tr>\n",
       "      <th>min</th>\n",
       "      <td>1985</td>\n",
       "      <td>1101</td>\n",
       "      <td>0</td>\n",
       "      <td>20</td>\n",
       "      <td>NaN</td>\n",
       "    </tr>\n",
       "    <tr>\n",
       "      <th>25%</th>\n",
       "      <td>1994</td>\n",
       "      <td>1193</td>\n",
       "      <td>0</td>\n",
       "      <td>154</td>\n",
       "      <td>NaN</td>\n",
       "    </tr>\n",
       "    <tr>\n",
       "      <th>50%</th>\n",
       "      <td>2003</td>\n",
       "      <td>1283</td>\n",
       "      <td>0</td>\n",
       "      <td>154</td>\n",
       "      <td>NaN</td>\n",
       "    </tr>\n",
       "    <tr>\n",
       "      <th>75%</th>\n",
       "      <td>2011</td>\n",
       "      <td>1377.75</td>\n",
       "      <td>0</td>\n",
       "      <td>154</td>\n",
       "      <td>NaN</td>\n",
       "    </tr>\n",
       "    <tr>\n",
       "      <th>max</th>\n",
       "      <td>2018</td>\n",
       "      <td>1464</td>\n",
       "      <td>135</td>\n",
       "      <td>154</td>\n",
       "      <td>NaN</td>\n",
       "    </tr>\n",
       "    <tr>\n",
       "      <th>counts</th>\n",
       "      <td>10994</td>\n",
       "      <td>10994</td>\n",
       "      <td>10994</td>\n",
       "      <td>10994</td>\n",
       "      <td>10994</td>\n",
       "    </tr>\n",
       "    <tr>\n",
       "      <th>uniques</th>\n",
       "      <td>34</td>\n",
       "      <td>364</td>\n",
       "      <td>63</td>\n",
       "      <td>63</td>\n",
       "      <td>1383</td>\n",
       "    </tr>\n",
       "    <tr>\n",
       "      <th>missing</th>\n",
       "      <td>0</td>\n",
       "      <td>0</td>\n",
       "      <td>0</td>\n",
       "      <td>0</td>\n",
       "      <td>0</td>\n",
       "    </tr>\n",
       "    <tr>\n",
       "      <th>missing_perc</th>\n",
       "      <td>0%</td>\n",
       "      <td>0%</td>\n",
       "      <td>0%</td>\n",
       "      <td>0%</td>\n",
       "      <td>0%</td>\n",
       "    </tr>\n",
       "    <tr>\n",
       "      <th>types</th>\n",
       "      <td>numeric</td>\n",
       "      <td>numeric</td>\n",
       "      <td>numeric</td>\n",
       "      <td>numeric</td>\n",
       "      <td>categorical</td>\n",
       "    </tr>\n",
       "  </tbody>\n",
       "</table>\n",
       "</div>"
      ],
      "text/plain": [
       "               Season   TeamID FirstDayNum LastDayNum    CoachName\n",
       "count           10994    10994       10994      10994          NaN\n",
       "mean          2002.21  1284.57    0.683009    153.189          NaN\n",
       "std           9.77833   104.94     7.38518    8.61731          NaN\n",
       "min              1985     1101           0         20          NaN\n",
       "25%              1994     1193           0        154          NaN\n",
       "50%              2003     1283           0        154          NaN\n",
       "75%              2011  1377.75           0        154          NaN\n",
       "max              2018     1464         135        154          NaN\n",
       "counts          10994    10994       10994      10994        10994\n",
       "uniques            34      364          63         63         1383\n",
       "missing             0        0           0          0            0\n",
       "missing_perc       0%       0%          0%         0%           0%\n",
       "types         numeric  numeric     numeric    numeric  categorical"
      ]
     },
     "metadata": {},
     "output_type": "display_data"
    }
   ],
   "source": [
    "for t in tables: display(DataFrameSummary(t).summary())"
   ]
  },
  {
   "cell_type": "code",
   "execution_count": 30,
   "metadata": {},
   "outputs": [],
   "source": [
    "massey, seasons, seeds, sample_sub, coaches = tables"
   ]
  },
  {
   "cell_type": "code",
   "execution_count": 31,
   "metadata": {},
   "outputs": [],
   "source": [
    "#df = pd.read_csv(PATH+'NCAATourneyDetailedResults.csv')\n",
    "df = pd.read_csv(PATH+'RegularSeasonDetailedResults.csv')\n",
    "#df = pd.read_csv(PATH+'WRegularSeasonDetailedResults_PrelimData2018.csv')"
   ]
  },
  {
   "cell_type": "code",
   "execution_count": 32,
   "metadata": {},
   "outputs": [],
   "source": [
    "massey['Rating'] = 100 - 4*np.log(massey.OrdinalRank+1) - massey.OrdinalRank/22"
   ]
  },
  {
   "cell_type": "code",
   "execution_count": 33,
   "metadata": {},
   "outputs": [],
   "source": [
    "massey = massey[(massey.RankingDayNum==128)].copy()"
   ]
  },
  {
   "cell_type": "code",
   "execution_count": 34,
   "metadata": {},
   "outputs": [],
   "source": [
    "massey.rename(columns={'RankingDayNum': 'DayNum'}, inplace=True)"
   ]
  },
  {
   "cell_type": "code",
   "execution_count": 35,
   "metadata": {},
   "outputs": [],
   "source": [
    "#bwd = df[['Store']+columns].sort_index().groupby(\"Store\").rolling(7, min_periods=1).sum()\n",
    "mr_mean = massey[['TeamID', 'DayNum', 'Rating', \n",
    "                  'Season']].sort_index().groupby(['TeamID', 'DayNum', 'Season'], as_index=False).mean()"
   ]
  },
  {
   "cell_type": "code",
   "execution_count": 36,
   "metadata": {},
   "outputs": [
    {
     "data": {
      "text/html": [
       "<div>\n",
       "<style scoped>\n",
       "    .dataframe tbody tr th:only-of-type {\n",
       "        vertical-align: middle;\n",
       "    }\n",
       "\n",
       "    .dataframe tbody tr th {\n",
       "        vertical-align: top;\n",
       "    }\n",
       "\n",
       "    .dataframe thead th {\n",
       "        text-align: right;\n",
       "    }\n",
       "</style>\n",
       "<table border=\"1\" class=\"dataframe\">\n",
       "  <thead>\n",
       "    <tr style=\"text-align: right;\">\n",
       "      <th></th>\n",
       "      <th>TeamID</th>\n",
       "      <th>DayNum</th>\n",
       "      <th>Season</th>\n",
       "      <th>Rating</th>\n",
       "    </tr>\n",
       "  </thead>\n",
       "  <tbody>\n",
       "    <tr>\n",
       "      <th>0</th>\n",
       "      <td>1101</td>\n",
       "      <td>128</td>\n",
       "      <td>2014</td>\n",
       "      <td>61.345703</td>\n",
       "    </tr>\n",
       "    <tr>\n",
       "      <th>1</th>\n",
       "      <td>1101</td>\n",
       "      <td>128</td>\n",
       "      <td>2015</td>\n",
       "      <td>61.815592</td>\n",
       "    </tr>\n",
       "    <tr>\n",
       "      <th>2</th>\n",
       "      <td>1101</td>\n",
       "      <td>128</td>\n",
       "      <td>2016</td>\n",
       "      <td>62.992623</td>\n",
       "    </tr>\n",
       "    <tr>\n",
       "      <th>3</th>\n",
       "      <td>1101</td>\n",
       "      <td>128</td>\n",
       "      <td>2017</td>\n",
       "      <td>63.827009</td>\n",
       "    </tr>\n",
       "    <tr>\n",
       "      <th>4</th>\n",
       "      <td>1101</td>\n",
       "      <td>128</td>\n",
       "      <td>2018</td>\n",
       "      <td>65.842841</td>\n",
       "    </tr>\n",
       "  </tbody>\n",
       "</table>\n",
       "</div>"
      ],
      "text/plain": [
       "   TeamID  DayNum  Season     Rating\n",
       "0    1101     128    2014  61.345703\n",
       "1    1101     128    2015  61.815592\n",
       "2    1101     128    2016  62.992623\n",
       "3    1101     128    2017  63.827009\n",
       "4    1101     128    2018  65.842841"
      ]
     },
     "execution_count": 36,
     "metadata": {},
     "output_type": "execute_result"
    }
   ],
   "source": [
    "mr_mean.head()"
   ]
  },
  {
   "cell_type": "code",
   "execution_count": 37,
   "metadata": {},
   "outputs": [],
   "source": [
    "def join_df(left, right, left_on, right_on=None, on=None, how='left', suffix='_y'):\n",
    "    if right_on is None: right_on = left_on\n",
    "    return left.merge(right, left_on=left_on, right_on=right_on,\n",
    "                      on=on, how=how, suffixes=(\"\", suffix))"
   ]
  },
  {
   "cell_type": "code",
   "execution_count": 38,
   "metadata": {},
   "outputs": [],
   "source": [
    "mr_mean.rename(columns={'TeamID': 'TeamID1'}, inplace=True)"
   ]
  },
  {
   "cell_type": "code",
   "execution_count": 39,
   "metadata": {},
   "outputs": [],
   "source": [
    "seasons = seasons[['Season', 'DayZero']]"
   ]
  },
  {
   "cell_type": "code",
   "execution_count": 40,
   "metadata": {},
   "outputs": [],
   "source": [
    "seasons = seasons[(seasons.Season>2002)]"
   ]
  },
  {
   "cell_type": "code",
   "execution_count": 41,
   "metadata": {},
   "outputs": [],
   "source": [
    "joined = join_df(mr_mean, seasons, 'Season')"
   ]
  },
  {
   "cell_type": "code",
   "execution_count": 42,
   "metadata": {},
   "outputs": [
    {
     "data": {
      "text/html": [
       "<div>\n",
       "<style scoped>\n",
       "    .dataframe tbody tr th:only-of-type {\n",
       "        vertical-align: middle;\n",
       "    }\n",
       "\n",
       "    .dataframe tbody tr th {\n",
       "        vertical-align: top;\n",
       "    }\n",
       "\n",
       "    .dataframe thead th {\n",
       "        text-align: right;\n",
       "    }\n",
       "</style>\n",
       "<table border=\"1\" class=\"dataframe\">\n",
       "  <thead>\n",
       "    <tr style=\"text-align: right;\">\n",
       "      <th></th>\n",
       "      <th>TeamID1</th>\n",
       "      <th>DayNum</th>\n",
       "      <th>Season</th>\n",
       "      <th>Rating</th>\n",
       "      <th>DayZero</th>\n",
       "    </tr>\n",
       "  </thead>\n",
       "  <tbody>\n",
       "    <tr>\n",
       "      <th>0</th>\n",
       "      <td>1101</td>\n",
       "      <td>128</td>\n",
       "      <td>2014</td>\n",
       "      <td>61.345703</td>\n",
       "      <td>11/4/2013</td>\n",
       "    </tr>\n",
       "    <tr>\n",
       "      <th>1</th>\n",
       "      <td>1101</td>\n",
       "      <td>128</td>\n",
       "      <td>2015</td>\n",
       "      <td>61.815592</td>\n",
       "      <td>11/3/2014</td>\n",
       "    </tr>\n",
       "    <tr>\n",
       "      <th>2</th>\n",
       "      <td>1101</td>\n",
       "      <td>128</td>\n",
       "      <td>2016</td>\n",
       "      <td>62.992623</td>\n",
       "      <td>11/2/2015</td>\n",
       "    </tr>\n",
       "  </tbody>\n",
       "</table>\n",
       "</div>"
      ],
      "text/plain": [
       "   TeamID1  DayNum  Season     Rating    DayZero\n",
       "0     1101     128    2014  61.345703  11/4/2013\n",
       "1     1101     128    2015  61.815592  11/3/2014\n",
       "2     1101     128    2016  62.992623  11/2/2015"
      ]
     },
     "execution_count": 42,
     "metadata": {},
     "output_type": "execute_result"
    }
   ],
   "source": [
    "joined.head(3)"
   ]
  },
  {
   "cell_type": "code",
   "execution_count": 43,
   "metadata": {},
   "outputs": [],
   "source": [
    "joined.drop('DayNum', inplace=True, axis=1)"
   ]
  },
  {
   "cell_type": "code",
   "execution_count": null,
   "metadata": {},
   "outputs": [],
   "source": [
    "df_trn.head(3)"
   ]
  },
  {
   "cell_type": "code",
   "execution_count": null,
   "metadata": {},
   "outputs": [],
   "source": [
    "joined_df = join_df(df_trn, joined, ['TeamID1', 'Season'])"
   ]
  },
  {
   "cell_type": "code",
   "execution_count": null,
   "metadata": {},
   "outputs": [],
   "source": [
    "joined_df.head()"
   ]
  },
  {
   "cell_type": "code",
   "execution_count": 79,
   "metadata": {},
   "outputs": [],
   "source": [
    "joined.rename(columns={'TeamID1': 'TeamID2'}, inplace=True)"
   ]
  },
  {
   "cell_type": "code",
   "execution_count": 82,
   "metadata": {},
   "outputs": [],
   "source": [
    "joined_df = join_df(joined_df, joined, ['TeamID2', 'Season'])"
   ]
  },
  {
   "cell_type": "code",
   "execution_count": 83,
   "metadata": {},
   "outputs": [
    {
     "data": {
      "text/html": [
       "<div>\n",
       "<style scoped>\n",
       "    .dataframe tbody tr th:only-of-type {\n",
       "        vertical-align: middle;\n",
       "    }\n",
       "\n",
       "    .dataframe tbody tr th {\n",
       "        vertical-align: top;\n",
       "    }\n",
       "\n",
       "    .dataframe thead th {\n",
       "        text-align: right;\n",
       "    }\n",
       "</style>\n",
       "<table border=\"1\" class=\"dataframe\">\n",
       "  <thead>\n",
       "    <tr style=\"text-align: right;\">\n",
       "      <th></th>\n",
       "      <th>Season</th>\n",
       "      <th>TeamID1</th>\n",
       "      <th>TeamID2</th>\n",
       "      <th>FTAR</th>\n",
       "      <th>ORP</th>\n",
       "      <th>DRP</th>\n",
       "      <th>PIE</th>\n",
       "      <th>eFGP</th>\n",
       "      <th>Result</th>\n",
       "      <th>Rating</th>\n",
       "      <th>DayZero</th>\n",
       "      <th>Rating_y</th>\n",
       "      <th>DayZero_y</th>\n",
       "    </tr>\n",
       "  </thead>\n",
       "  <tbody>\n",
       "    <tr>\n",
       "      <th>0</th>\n",
       "      <td>2003</td>\n",
       "      <td>1104</td>\n",
       "      <td>1328</td>\n",
       "      <td>-0.104750</td>\n",
       "      <td>0.094771</td>\n",
       "      <td>0.094771</td>\n",
       "      <td>0.065693</td>\n",
       "      <td>0.057417</td>\n",
       "      <td>1</td>\n",
       "      <td>83.513227</td>\n",
       "      <td>11/4/2002</td>\n",
       "      <td>91.054830</td>\n",
       "      <td>11/4/2002</td>\n",
       "    </tr>\n",
       "    <tr>\n",
       "      <th>1</th>\n",
       "      <td>2003</td>\n",
       "      <td>1272</td>\n",
       "      <td>1393</td>\n",
       "      <td>0.007944</td>\n",
       "      <td>-0.041667</td>\n",
       "      <td>-0.041667</td>\n",
       "      <td>0.204678</td>\n",
       "      <td>0.080886</td>\n",
       "      <td>1</td>\n",
       "      <td>85.635698</td>\n",
       "      <td>11/4/2002</td>\n",
       "      <td>89.901306</td>\n",
       "      <td>11/4/2002</td>\n",
       "    </tr>\n",
       "    <tr>\n",
       "      <th>2</th>\n",
       "      <td>2003</td>\n",
       "      <td>1266</td>\n",
       "      <td>1437</td>\n",
       "      <td>0.184932</td>\n",
       "      <td>-0.107962</td>\n",
       "      <td>-0.107962</td>\n",
       "      <td>0.472868</td>\n",
       "      <td>0.160841</td>\n",
       "      <td>1</td>\n",
       "      <td>91.046518</td>\n",
       "      <td>11/4/2002</td>\n",
       "      <td>79.076048</td>\n",
       "      <td>11/4/2002</td>\n",
       "    </tr>\n",
       "    <tr>\n",
       "      <th>3</th>\n",
       "      <td>2003</td>\n",
       "      <td>1296</td>\n",
       "      <td>1457</td>\n",
       "      <td>0.509667</td>\n",
       "      <td>-0.241453</td>\n",
       "      <td>-0.241453</td>\n",
       "      <td>0.509434</td>\n",
       "      <td>0.084586</td>\n",
       "      <td>1</td>\n",
       "      <td>74.348154</td>\n",
       "      <td>11/4/2002</td>\n",
       "      <td>71.928464</td>\n",
       "      <td>11/4/2002</td>\n",
       "    </tr>\n",
       "    <tr>\n",
       "      <th>4</th>\n",
       "      <td>2003</td>\n",
       "      <td>1400</td>\n",
       "      <td>1208</td>\n",
       "      <td>-0.222369</td>\n",
       "      <td>0.042878</td>\n",
       "      <td>0.042878</td>\n",
       "      <td>0.141463</td>\n",
       "      <td>0.105500</td>\n",
       "      <td>1</td>\n",
       "      <td>93.161461</td>\n",
       "      <td>11/4/2002</td>\n",
       "      <td>88.262786</td>\n",
       "      <td>11/4/2002</td>\n",
       "    </tr>\n",
       "  </tbody>\n",
       "</table>\n",
       "</div>"
      ],
      "text/plain": [
       "   Season  TeamID1  TeamID2      FTAR       ORP       DRP       PIE      eFGP  \\\n",
       "0    2003     1104     1328 -0.104750  0.094771  0.094771  0.065693  0.057417   \n",
       "1    2003     1272     1393  0.007944 -0.041667 -0.041667  0.204678  0.080886   \n",
       "2    2003     1266     1437  0.184932 -0.107962 -0.107962  0.472868  0.160841   \n",
       "3    2003     1296     1457  0.509667 -0.241453 -0.241453  0.509434  0.084586   \n",
       "4    2003     1400     1208 -0.222369  0.042878  0.042878  0.141463  0.105500   \n",
       "\n",
       "   Result     Rating    DayZero   Rating_y  DayZero_y  \n",
       "0       1  83.513227  11/4/2002  91.054830  11/4/2002  \n",
       "1       1  85.635698  11/4/2002  89.901306  11/4/2002  \n",
       "2       1  91.046518  11/4/2002  79.076048  11/4/2002  \n",
       "3       1  74.348154  11/4/2002  71.928464  11/4/2002  \n",
       "4       1  93.161461  11/4/2002  88.262786  11/4/2002  "
      ]
     },
     "execution_count": 83,
     "metadata": {},
     "output_type": "execute_result"
    }
   ],
   "source": [
    "joined_df.head()"
   ]
  },
  {
   "cell_type": "code",
   "execution_count": 84,
   "metadata": {},
   "outputs": [],
   "source": [
    "joined_df['DayZero'] = pd.to_datetime(joined_df['DayZero'])"
   ]
  },
  {
   "cell_type": "code",
   "execution_count": null,
   "metadata": {},
   "outputs": [],
   "source": [
    "joined_df['Date'] = joined_df.apply(lambda row: row.DayZero + timedelta(days=row.DayNum), axis=1)\n",
    "#df['Value'] = df.apply(lambda row: my_test(row['a'], row['c']), axis=1)"
   ]
  },
  {
   "cell_type": "code",
   "execution_count": 86,
   "metadata": {},
   "outputs": [],
   "source": [
    "joined_df.drop(['DayZero', 'DayZero_y'], inplace=True, axis=1)"
   ]
  },
  {
   "cell_type": "code",
   "execution_count": 87,
   "metadata": {},
   "outputs": [],
   "source": [
    "joined_df[['Rating', 'Rating_y']] = joined_df[['Rating', 'Rating_y']].fillna(0.0).astype(int)"
   ]
  },
  {
   "cell_type": "code",
   "execution_count": null,
   "metadata": {},
   "outputs": [],
   "source": [
    "joined.to_feather(f'{PATH}tmp/joined_df')"
   ]
  },
  {
   "cell_type": "code",
   "execution_count": 88,
   "metadata": {},
   "outputs": [],
   "source": [
    "joined = pd.read_feather(f'{PATH}tmp/joined_df')"
   ]
  },
  {
   "cell_type": "code",
   "execution_count": 89,
   "metadata": {},
   "outputs": [
    {
     "data": {
      "text/html": [
       "<div>\n",
       "<style scoped>\n",
       "    .dataframe tbody tr th:only-of-type {\n",
       "        vertical-align: middle;\n",
       "    }\n",
       "\n",
       "    .dataframe tbody tr th {\n",
       "        vertical-align: top;\n",
       "    }\n",
       "\n",
       "    .dataframe thead th {\n",
       "        text-align: right;\n",
       "    }\n",
       "</style>\n",
       "<table border=\"1\" class=\"dataframe\">\n",
       "  <thead>\n",
       "    <tr style=\"text-align: right;\">\n",
       "      <th></th>\n",
       "      <th>Season</th>\n",
       "      <th>TeamID1</th>\n",
       "      <th>TeamID2</th>\n",
       "      <th>FTAR</th>\n",
       "      <th>ORP</th>\n",
       "      <th>DRP</th>\n",
       "      <th>PIE</th>\n",
       "      <th>eFGP</th>\n",
       "      <th>Result</th>\n",
       "      <th>Rating</th>\n",
       "      <th>Rating_y</th>\n",
       "    </tr>\n",
       "  </thead>\n",
       "  <tbody>\n",
       "    <tr>\n",
       "      <th>0</th>\n",
       "      <td>2003</td>\n",
       "      <td>1104</td>\n",
       "      <td>1328</td>\n",
       "      <td>-0.104750</td>\n",
       "      <td>0.094771</td>\n",
       "      <td>0.094771</td>\n",
       "      <td>0.065693</td>\n",
       "      <td>0.057417</td>\n",
       "      <td>1</td>\n",
       "      <td>83</td>\n",
       "      <td>91</td>\n",
       "    </tr>\n",
       "    <tr>\n",
       "      <th>1</th>\n",
       "      <td>2003</td>\n",
       "      <td>1272</td>\n",
       "      <td>1393</td>\n",
       "      <td>0.007944</td>\n",
       "      <td>-0.041667</td>\n",
       "      <td>-0.041667</td>\n",
       "      <td>0.204678</td>\n",
       "      <td>0.080886</td>\n",
       "      <td>1</td>\n",
       "      <td>85</td>\n",
       "      <td>89</td>\n",
       "    </tr>\n",
       "    <tr>\n",
       "      <th>2</th>\n",
       "      <td>2003</td>\n",
       "      <td>1266</td>\n",
       "      <td>1437</td>\n",
       "      <td>0.184932</td>\n",
       "      <td>-0.107962</td>\n",
       "      <td>-0.107962</td>\n",
       "      <td>0.472868</td>\n",
       "      <td>0.160841</td>\n",
       "      <td>1</td>\n",
       "      <td>91</td>\n",
       "      <td>79</td>\n",
       "    </tr>\n",
       "  </tbody>\n",
       "</table>\n",
       "</div>"
      ],
      "text/plain": [
       "   Season  TeamID1  TeamID2      FTAR       ORP       DRP       PIE      eFGP  \\\n",
       "0    2003     1104     1328 -0.104750  0.094771  0.094771  0.065693  0.057417   \n",
       "1    2003     1272     1393  0.007944 -0.041667 -0.041667  0.204678  0.080886   \n",
       "2    2003     1266     1437  0.184932 -0.107962 -0.107962  0.472868  0.160841   \n",
       "\n",
       "   Result  Rating  Rating_y  \n",
       "0       1      83        91  \n",
       "1       1      85        89  \n",
       "2       1      91        79  "
      ]
     },
     "execution_count": 89,
     "metadata": {},
     "output_type": "execute_result"
    }
   ],
   "source": [
    "joined_df.head(3)"
   ]
  },
  {
   "cell_type": "code",
   "execution_count": null,
   "metadata": {},
   "outputs": [],
   "source": [
    "joined_df[(joined_df.Date=='2002-11-14')]"
   ]
  },
  {
   "cell_type": "code",
   "execution_count": null,
   "metadata": {},
   "outputs": [],
   "source": [
    "add_datepart(joined, \"Date\", drop=False)"
   ]
  },
  {
   "cell_type": "code",
   "execution_count": null,
   "metadata": {},
   "outputs": [],
   "source": [
    "joined = joined.groupby('TeamID').mean()"
   ]
  },
  {
   "cell_type": "code",
   "execution_count": null,
   "metadata": {},
   "outputs": [],
   "source": [
    "joined.head(3)"
   ]
  },
  {
   "cell_type": "code",
   "execution_count": null,
   "metadata": {},
   "outputs": [],
   "source": [
    "# run for women's prelim data\n",
    "df = df.loc[(df['Season']<2018)].copy()\n",
    "df.tail(3)"
   ]
  },
  {
   "cell_type": "markdown",
   "metadata": {},
   "source": [
    "Thanks to Laksan Nathan's [Feature Engineering with Advanced Stats](https://www.kaggle.com/lnatml/feature-engineering-with-advanced-stats/notebook) for feature engineering code. In short, a team's offensive and defensive efficiency combined with stats on rebounding, defense, fouls, etc., provide a more robust measure of a team's overall performance."
   ]
  },
  {
   "cell_type": "code",
   "execution_count": null,
   "metadata": {},
   "outputs": [],
   "source": [
    "#Points Winning/Losing Team\n",
    "df['WPts'] = df.apply(lambda row: 2*row.WFGM + row.WFGM3 + row.WFTM, axis=1)\n",
    "df['LPts'] = df.apply(lambda row: 2*row.LFGM + row.LFGM3 + row.LFTM, axis=1)\n",
    "\n",
    "#Calculate Winning/losing Team Possesion Feature\n",
    "wPos = df.apply(lambda row: 0.96*(row.WFGA + row.WTO + 0.44*row.WFTA - row.WOR), axis=1)\n",
    "lPos = df.apply(lambda row: 0.96*(row.LFGA + row.LTO + 0.44*row.LFTA - row.LOR), axis=1)\n",
    "#two teams use almost the same number of possessions in a game\n",
    "#(plus/minus one or two - depending on how quarters end)\n",
    "#so let's just take the average\n",
    "df['Pos'] = (wPos+lPos)/2"
   ]
  },
  {
   "cell_type": "code",
   "execution_count": null,
   "metadata": {},
   "outputs": [],
   "source": [
    "#Offensive efficiency (OffRtg) = 100 x (Points / Possessions)\n",
    "df['WOffRtg'] = df.apply(lambda row: 100 * (row.WPts / row.Pos), axis=1)\n",
    "df['LOffRtg'] = df.apply(lambda row: 100 * (row.LPts / row.Pos), axis=1)\n",
    "#Defensive efficiency (DefRtg) = 100 x (Opponent points / Opponent possessions)\n",
    "df['WDefRtg'] = df.LOffRtg\n",
    "df['LDefRtg'] = df.WOffRtg\n",
    "#Net Rating = Off.eff - Def.eff\n",
    "df['WNetRtg'] = df.apply(lambda row:(row.WOffRtg - row.WDefRtg), axis=1)\n",
    "df['LNetRtg'] = df.apply(lambda row:(row.LOffRtg - row.LDefRtg), axis=1)\n",
    "                         \n",
    "#Assist Ratio : Percentage of team possessions that end in assists\n",
    "df['WAstR'] = df.apply(lambda row: 100 * row.WAst / (row.WFGA + 0.44*row.WFTA + row.WAst + row.WTO), axis=1)\n",
    "df['LAstR'] = df.apply(lambda row: 100 * row.LAst / (row.LFGA + 0.44*row.LFTA + row.LAst + row.LTO), axis=1)\n",
    "#Turnover Ratio: Number of turnovers of a team per 100 possessions used.\n",
    "#(TO * 100) / (FGA + (FTA * 0.44) + AST + TO\n",
    "df['WTOR'] = df.apply(lambda row: 100 * row.WTO / (row.WFGA + 0.44*row.WFTA + row.WAst + row.WTO), axis=1)\n",
    "df['LTOR'] = df.apply(lambda row: 100 * row.LTO / (row.LFGA + 0.44*row.LFTA + row.LAst + row.LTO), axis=1)\n",
    "                    \n",
    "#The Shooting Percentage : Measure of Shooting Efficiency (FGA/FGA3, FTA)\n",
    "df['WTSP'] = df.apply(lambda row: 100 * row.WPts / (2 * (row.WFGA + 0.44 * row.WFTA)), axis=1)\n",
    "df['LTSP'] = df.apply(lambda row: 100 * row.LPts / (2 * (row.LFGA + 0.44 * row.LFTA)), axis=1)\n",
    "#eFG% : Effective Field Goal Percentage adjusting for the fact that 3pt shots are more valuable \n",
    "df['WeFGP'] = df.apply(lambda row:(row.WFGM + 0.5 * row.WFGM3) / row.WFGA, axis=1)      \n",
    "df['LeFGP'] = df.apply(lambda row:(row.LFGM + 0.5 * row.LFGM3) / row.LFGA, axis=1)   \n",
    "#FTA Rate : How good a team is at drawing fouls.\n",
    "df['WFTAR'] = df.apply(lambda row: row.WFTA / row.WFGA, axis=1)\n",
    "df['LFTAR'] = df.apply(lambda row: row.LFTA / row.LFGA, axis=1)\n",
    "                         \n",
    "#OREB% : Percentage of team offensive rebounds\n",
    "df['WORP'] = df.apply(lambda row: row.WOR / (row.WOR + row.LDR), axis=1)\n",
    "df['LORP'] = df.apply(lambda row: row.LOR / (row.LOR + row.WDR), axis=1)\n",
    "#DREB% : Percentage of team defensive rebounds\n",
    "df['WDRP'] = df.apply(lambda row: row.WDR / (row.WDR + row.LOR), axis=1)\n",
    "df['LDRP'] = df.apply(lambda row: row.LDR / (row.LDR + row.WOR), axis=1)                                   \n",
    "#OREB% : Percentage of team total rebounds\n",
    "df['WRP'] = df.apply(lambda row: (row.WDR + row.WOR) / (row.WDR + row.WOR + row.LDR + row.LOR), axis=1)\n",
    "df['LRP'] = df.apply(lambda row: (row.LDR + row.WOR) / (row.WDR + row.WOR + row.LDR + row.LOR), axis=1) "
   ]
  },
  {
   "cell_type": "markdown",
   "metadata": {},
   "source": [
    "PIE is a measure of a team's performance which highly correlates with it's winning percentage. See [NBA Glossary](https://stats.nba.com/help/glossary/) for more information."
   ]
  },
  {
   "cell_type": "code",
   "execution_count": null,
   "metadata": {},
   "outputs": [],
   "source": [
    "df['WPIE'] = df.apply(lambda row: (row.WDR + row.WOR) / (row.WDR + row.WOR + row.LDR + row.LOR), axis=1)\n",
    "wtmp = df.apply(lambda row: row.WPts + row.WFGM + row.WFTM - row.WFGA - row.WFTA + row.WDR + 0.5*row.WOR + row.WAst +row.WStl + 0.5*row.WBlk - row.WPF - row.WTO, axis=1)\n",
    "ltmp = df.apply(lambda row: row.LPts + row.LFGM + row.LFTM - row.LFGA - row.LFTA + row.LDR + 0.5*row.LOR + row.LAst +row.LStl + 0.5*row.LBlk - row.LPF - row.LTO, axis=1) \n",
    "df['WPIE'] = wtmp/(wtmp + ltmp)\n",
    "df['LPIE'] = ltmp/(wtmp + ltmp)"
   ]
  },
  {
   "cell_type": "code",
   "execution_count": null,
   "metadata": {},
   "outputs": [],
   "source": [
    "#let's call it dimensionality reduction\n",
    "df.drop(['WFGM', 'WFGA', 'WFGM3', 'WFGA3', 'WFTM', 'WFTA', 'WOR', 'WDR', 'WAst', 'WTO', 'WStl', 'WBlk', 'WPF'], axis=1, inplace=True)\n",
    "df.drop(['LFGM', 'LFGA', 'LFGM3', 'LFGA3', 'LFTM', 'LFTA', 'LOR', 'LDR', 'LAst', 'LTO', 'LStl', 'LBlk', 'LPF'], axis=1, inplace=True)\n",
    "\n",
    "#df.to_csv(PATH+'NCAATourneyDetailedResultsEnriched.csv, index=False')\n",
    "df.to_csv(PATH+'RegularSeasonDetailedResultsEnriched.csv', index=False)\n",
    "#df.to_csv(PATH+'wRegularSeasonDetailedResultsEnriched.csv', index=False)"
   ]
  },
  {
   "cell_type": "code",
   "execution_count": 12,
   "metadata": {},
   "outputs": [],
   "source": [
    "#df = pd.read_csv(PATH+'NCAATourneyDetailedResultsEnriched.csv')\n",
    "df = pd.read_csv(PATH+'RegularSeasonDetailedResultsEnriched.csv')\n",
    "#df = pd.read_csv(PATH+'wRegularSeasonDetailedResultsEnriched.csv')"
   ]
  },
  {
   "cell_type": "code",
   "execution_count": null,
   "metadata": {},
   "outputs": [],
   "source": [
    "df_trn.columns"
   ]
  },
  {
   "cell_type": "code",
   "execution_count": 22,
   "metadata": {},
   "outputs": [],
   "source": [
    "# Massey Ratings to pull from df_trn for X_test_df\n",
    "c = ['Rating', 'Rating_y']\n",
    "\n",
    "#get ratings by TeamID\n",
    "def get_ratings(teamid, season, c):\n",
    "    pdb.set_trace()\n",
    "    rating = (df_trn.loc[(df_trn['TeamID1'] == teamid) & (df_trn['Season'] == season)]['Rating'].iloc[0])\n",
    "    return rating"
   ]
  },
  {
   "cell_type": "code",
   "execution_count": null,
   "metadata": {},
   "outputs": [],
   "source": [
    "get_ratings(1107, 2014, c)"
   ]
  },
  {
   "cell_type": "code",
   "execution_count": null,
   "metadata": {},
   "outputs": [],
   "source": [
    "X_test_df.head(3)"
   ]
  },
  {
   "cell_type": "code",
   "execution_count": 10,
   "metadata": {},
   "outputs": [],
   "source": [
    "#categories need to be normalized for a sensible plot\n",
    "categories= ['FTAR','ORP','DRP','PIE','eFGP']\n",
    "\n",
    "#get stats by TeamID\n",
    "def get_stats(teamid, season, categories):\n",
    "    \n",
    "    wstats = []\n",
    "    wteam = df.loc[(df['WTeamID'] == teamid) & (df['Season'] == season)]\n",
    "    for i in categories:\n",
    "        wstats.append(wteam['W'+i].sum())\n",
    "    \n",
    "    lstats = []\n",
    "    lteam = df.loc[(df['LTeamID'] == teamid) & (df['Season'] == season)]\n",
    "    for i in categories:\n",
    "        lstats.append(lteam['L'+i].sum())\n",
    "\n",
    "    return [(i+j)/(len(wteam.index)+len(lteam.index))\n",
    "            for i,j in zip(wstats,lstats)]\n",
    "\n",
    "#plotting advanced stats for given team\n",
    "def plot_team(stats, categories):\n",
    "\n",
    "    stats += stats[:1]\n",
    "\n",
    "    angles = [n / float(len(categories)) * 2 * pi for n in range(len(categories))]\n",
    "    angles += angles[:1]\n",
    "\n",
    "    ax = plt.subplot(111, polar=True)\n",
    "\n",
    "    plt.xticks(angles[:-1], categories, color='grey', size=10)\n",
    "\n",
    "    ax.set_rlabel_position(0)\n",
    "    plt.yticks([i*0.1 for i in range(10)], [], color=\"black\", size=8)\n",
    "    plt.ylim(0,1)\n",
    "    \n",
    "    ax.plot(angles, stats, linewidth=2, linestyle='solid')\n",
    "    ax.fill(angles, stats, 'b', alpha=0.2)"
   ]
  },
  {
   "cell_type": "code",
   "execution_count": 13,
   "metadata": {},
   "outputs": [
    {
     "data": {
      "image/png": "[encoded data removed]",
      "text/plain": [
       "<matplotlib.figure.Figure at 0x7f251af11e10>"
      ]
     },
     "metadata": {},
     "output_type": "display_data"
    }
   ],
   "source": [
    "plot_team(get_stats(1104,2018, categories),categories)"
   ]
  },
  {
   "cell_type": "code",
   "execution_count": null,
   "metadata": {},
   "outputs": [],
   "source": [
    "plot_team(get_stats(1175,2005, categories),categories)"
   ]
  },
  {
   "cell_type": "code",
   "execution_count": 47,
   "metadata": {},
   "outputs": [],
   "source": [
    "w_vars = ['WOffRtg', 'WDefRtg', 'WNetRtg', 'WAstR', 'WTOR', 'WTSP', 'WeFGP', 'WFTAR', 'WORP', 'WDRP', 'WRP', 'WPIE']\n",
    "l_vars = ['LOffRtg', 'LDefRtg', 'LNetRtg', 'LAstR', 'LTOR', 'LTSP', 'LeFGP', 'LFTAR', 'LORP', 'LDRP', 'LRP', 'LPIE']\n",
    "d_vars = ['DOffRtg', 'DDefRtg', 'DNetRtg', 'DAstR', 'DTOR', 'DTSP', 'DeFGP', 'DFTAR', 'DORP', 'DDRP', 'DRP', 'DPIE']"
   ]
  },
  {
   "cell_type": "code",
   "execution_count": 48,
   "metadata": {},
   "outputs": [],
   "source": [
    "#for d in d_vars:\n",
    " #   df[d] = 0\n",
    "\n",
    "for w,l,d in zip(w_vars, l_vars, d_vars):\n",
    "    df[d] = df[w] - df[l]"
   ]
  },
  {
   "cell_type": "code",
   "execution_count": 49,
   "metadata": {},
   "outputs": [],
   "source": [
    "for i in categories:\n",
    "    df[i] = df['D'+i]  "
   ]
  },
  {
   "cell_type": "code",
   "execution_count": 52,
   "metadata": {},
   "outputs": [
    {
     "data": {
      "text/html": [
       "<div>\n",
       "<style scoped>\n",
       "    .dataframe tbody tr th:only-of-type {\n",
       "        vertical-align: middle;\n",
       "    }\n",
       "\n",
       "    .dataframe tbody tr th {\n",
       "        vertical-align: top;\n",
       "    }\n",
       "\n",
       "    .dataframe thead th {\n",
       "        text-align: right;\n",
       "    }\n",
       "</style>\n",
       "<table border=\"1\" class=\"dataframe\">\n",
       "  <thead>\n",
       "    <tr style=\"text-align: right;\">\n",
       "      <th></th>\n",
       "      <th>Season</th>\n",
       "      <th>DayNum</th>\n",
       "      <th>WTeamID</th>\n",
       "      <th>WScore</th>\n",
       "      <th>LTeamID</th>\n",
       "      <th>LScore</th>\n",
       "      <th>WLoc</th>\n",
       "      <th>NumOT</th>\n",
       "      <th>WPts</th>\n",
       "      <th>LPts</th>\n",
       "      <th>...</th>\n",
       "      <th>DeFGP</th>\n",
       "      <th>DFTAR</th>\n",
       "      <th>DORP</th>\n",
       "      <th>DDRP</th>\n",
       "      <th>DRP</th>\n",
       "      <th>DPIE</th>\n",
       "      <th>FTAR</th>\n",
       "      <th>ORP</th>\n",
       "      <th>PIE</th>\n",
       "      <th>eFGP</th>\n",
       "    </tr>\n",
       "  </thead>\n",
       "  <tbody>\n",
       "    <tr>\n",
       "      <th>0</th>\n",
       "      <td>2003</td>\n",
       "      <td>10</td>\n",
       "      <td>1104</td>\n",
       "      <td>68</td>\n",
       "      <td>1328</td>\n",
       "      <td>62</td>\n",
       "      <td>N</td>\n",
       "      <td>0</td>\n",
       "      <td>68</td>\n",
       "      <td>62</td>\n",
       "      <td>...</td>\n",
       "      <td>0.057417</td>\n",
       "      <td>-0.104750</td>\n",
       "      <td>0.094771</td>\n",
       "      <td>0.094771</td>\n",
       "      <td>0.094771</td>\n",
       "      <td>0.065693</td>\n",
       "      <td>-0.104750</td>\n",
       "      <td>0.094771</td>\n",
       "      <td>0.065693</td>\n",
       "      <td>0.057417</td>\n",
       "    </tr>\n",
       "    <tr>\n",
       "      <th>1</th>\n",
       "      <td>2003</td>\n",
       "      <td>10</td>\n",
       "      <td>1272</td>\n",
       "      <td>70</td>\n",
       "      <td>1393</td>\n",
       "      <td>63</td>\n",
       "      <td>N</td>\n",
       "      <td>0</td>\n",
       "      <td>70</td>\n",
       "      <td>63</td>\n",
       "      <td>...</td>\n",
       "      <td>0.080886</td>\n",
       "      <td>0.007944</td>\n",
       "      <td>-0.041667</td>\n",
       "      <td>-0.041667</td>\n",
       "      <td>-0.041667</td>\n",
       "      <td>0.204678</td>\n",
       "      <td>0.007944</td>\n",
       "      <td>-0.041667</td>\n",
       "      <td>0.204678</td>\n",
       "      <td>0.080886</td>\n",
       "    </tr>\n",
       "    <tr>\n",
       "      <th>2</th>\n",
       "      <td>2003</td>\n",
       "      <td>11</td>\n",
       "      <td>1266</td>\n",
       "      <td>73</td>\n",
       "      <td>1437</td>\n",
       "      <td>61</td>\n",
       "      <td>N</td>\n",
       "      <td>0</td>\n",
       "      <td>73</td>\n",
       "      <td>61</td>\n",
       "      <td>...</td>\n",
       "      <td>0.160841</td>\n",
       "      <td>0.184932</td>\n",
       "      <td>-0.107962</td>\n",
       "      <td>-0.107962</td>\n",
       "      <td>-0.107962</td>\n",
       "      <td>0.472868</td>\n",
       "      <td>0.184932</td>\n",
       "      <td>-0.107962</td>\n",
       "      <td>0.472868</td>\n",
       "      <td>0.160841</td>\n",
       "    </tr>\n",
       "  </tbody>\n",
       "</table>\n",
       "<p>3 rows × 51 columns</p>\n",
       "</div>"
      ],
      "text/plain": [
       "   Season  DayNum  WTeamID  WScore  LTeamID  LScore WLoc  NumOT  WPts  LPts  \\\n",
       "0    2003      10     1104      68     1328      62    N      0    68    62   \n",
       "1    2003      10     1272      70     1393      63    N      0    70    63   \n",
       "2    2003      11     1266      73     1437      61    N      0    73    61   \n",
       "\n",
       "     ...        DeFGP     DFTAR      DORP      DDRP       DRP      DPIE  \\\n",
       "0    ...     0.057417 -0.104750  0.094771  0.094771  0.094771  0.065693   \n",
       "1    ...     0.080886  0.007944 -0.041667 -0.041667 -0.041667  0.204678   \n",
       "2    ...     0.160841  0.184932 -0.107962 -0.107962 -0.107962  0.472868   \n",
       "\n",
       "       FTAR       ORP       PIE      eFGP  \n",
       "0 -0.104750  0.094771  0.065693  0.057417  \n",
       "1  0.007944 -0.041667  0.204678  0.080886  \n",
       "2  0.184932 -0.107962  0.472868  0.160841  \n",
       "\n",
       "[3 rows x 51 columns]"
      ]
     },
     "execution_count": 52,
     "metadata": {},
     "output_type": "execute_result"
    }
   ],
   "source": [
    "df.head(3)"
   ]
  },
  {
   "cell_type": "code",
   "execution_count": 97,
   "metadata": {},
   "outputs": [],
   "source": [
    "columns = ['Season', 'TeamID1', 'TeamID2', 'Rating', 'Rating_y']"
   ]
  },
  {
   "cell_type": "code",
   "execution_count": 99,
   "metadata": {},
   "outputs": [],
   "source": [
    "df_trnW = joined_df[columns+categories].copy()"
   ]
  },
  {
   "cell_type": "code",
   "execution_count": 100,
   "metadata": {},
   "outputs": [
    {
     "data": {
      "text/html": [
       "<div>\n",
       "<style scoped>\n",
       "    .dataframe tbody tr th:only-of-type {\n",
       "        vertical-align: middle;\n",
       "    }\n",
       "\n",
       "    .dataframe tbody tr th {\n",
       "        vertical-align: top;\n",
       "    }\n",
       "\n",
       "    .dataframe thead th {\n",
       "        text-align: right;\n",
       "    }\n",
       "</style>\n",
       "<table border=\"1\" class=\"dataframe\">\n",
       "  <thead>\n",
       "    <tr style=\"text-align: right;\">\n",
       "      <th></th>\n",
       "      <th>Season</th>\n",
       "      <th>TeamID1</th>\n",
       "      <th>TeamID2</th>\n",
       "      <th>Rating</th>\n",
       "      <th>Rating_y</th>\n",
       "      <th>FTAR</th>\n",
       "      <th>ORP</th>\n",
       "      <th>DRP</th>\n",
       "      <th>PIE</th>\n",
       "      <th>eFGP</th>\n",
       "    </tr>\n",
       "  </thead>\n",
       "  <tbody>\n",
       "    <tr>\n",
       "      <th>0</th>\n",
       "      <td>2003</td>\n",
       "      <td>1104</td>\n",
       "      <td>1328</td>\n",
       "      <td>83</td>\n",
       "      <td>91</td>\n",
       "      <td>-0.104750</td>\n",
       "      <td>0.094771</td>\n",
       "      <td>0.094771</td>\n",
       "      <td>0.065693</td>\n",
       "      <td>0.057417</td>\n",
       "    </tr>\n",
       "    <tr>\n",
       "      <th>1</th>\n",
       "      <td>2003</td>\n",
       "      <td>1272</td>\n",
       "      <td>1393</td>\n",
       "      <td>85</td>\n",
       "      <td>89</td>\n",
       "      <td>0.007944</td>\n",
       "      <td>-0.041667</td>\n",
       "      <td>-0.041667</td>\n",
       "      <td>0.204678</td>\n",
       "      <td>0.080886</td>\n",
       "    </tr>\n",
       "    <tr>\n",
       "      <th>2</th>\n",
       "      <td>2003</td>\n",
       "      <td>1266</td>\n",
       "      <td>1437</td>\n",
       "      <td>91</td>\n",
       "      <td>79</td>\n",
       "      <td>0.184932</td>\n",
       "      <td>-0.107962</td>\n",
       "      <td>-0.107962</td>\n",
       "      <td>0.472868</td>\n",
       "      <td>0.160841</td>\n",
       "    </tr>\n",
       "  </tbody>\n",
       "</table>\n",
       "</div>"
      ],
      "text/plain": [
       "   Season  TeamID1  TeamID2  Rating  Rating_y      FTAR       ORP       DRP  \\\n",
       "0    2003     1104     1328      83        91 -0.104750  0.094771  0.094771   \n",
       "1    2003     1272     1393      85        89  0.007944 -0.041667 -0.041667   \n",
       "2    2003     1266     1437      91        79  0.184932 -0.107962 -0.107962   \n",
       "\n",
       "        PIE      eFGP  \n",
       "0  0.065693  0.057417  \n",
       "1  0.204678  0.080886  \n",
       "2  0.472868  0.160841  "
      ]
     },
     "execution_count": 100,
     "metadata": {},
     "output_type": "execute_result"
    }
   ],
   "source": [
    "df_trnW.head(3)"
   ]
  },
  {
   "cell_type": "code",
   "execution_count": 101,
   "metadata": {},
   "outputs": [],
   "source": [
    "df_trnL = df_trnW[columns].copy()"
   ]
  },
  {
   "cell_type": "code",
   "execution_count": 102,
   "metadata": {},
   "outputs": [],
   "source": [
    "df_trnL[categories] = -df_trnW[categories].copy()"
   ]
  },
  {
   "cell_type": "code",
   "execution_count": 103,
   "metadata": {},
   "outputs": [
    {
     "data": {
      "text/html": [
       "<div>\n",
       "<style scoped>\n",
       "    .dataframe tbody tr th:only-of-type {\n",
       "        vertical-align: middle;\n",
       "    }\n",
       "\n",
       "    .dataframe tbody tr th {\n",
       "        vertical-align: top;\n",
       "    }\n",
       "\n",
       "    .dataframe thead th {\n",
       "        text-align: right;\n",
       "    }\n",
       "</style>\n",
       "<table border=\"1\" class=\"dataframe\">\n",
       "  <thead>\n",
       "    <tr style=\"text-align: right;\">\n",
       "      <th></th>\n",
       "      <th>Season</th>\n",
       "      <th>TeamID1</th>\n",
       "      <th>TeamID2</th>\n",
       "      <th>Rating</th>\n",
       "      <th>Rating_y</th>\n",
       "      <th>FTAR</th>\n",
       "      <th>ORP</th>\n",
       "      <th>DRP</th>\n",
       "      <th>PIE</th>\n",
       "      <th>eFGP</th>\n",
       "    </tr>\n",
       "  </thead>\n",
       "  <tbody>\n",
       "    <tr>\n",
       "      <th>0</th>\n",
       "      <td>2003</td>\n",
       "      <td>1104</td>\n",
       "      <td>1328</td>\n",
       "      <td>83</td>\n",
       "      <td>91</td>\n",
       "      <td>0.104750</td>\n",
       "      <td>-0.094771</td>\n",
       "      <td>-0.094771</td>\n",
       "      <td>-0.065693</td>\n",
       "      <td>-0.057417</td>\n",
       "    </tr>\n",
       "    <tr>\n",
       "      <th>1</th>\n",
       "      <td>2003</td>\n",
       "      <td>1272</td>\n",
       "      <td>1393</td>\n",
       "      <td>85</td>\n",
       "      <td>89</td>\n",
       "      <td>-0.007944</td>\n",
       "      <td>0.041667</td>\n",
       "      <td>0.041667</td>\n",
       "      <td>-0.204678</td>\n",
       "      <td>-0.080886</td>\n",
       "    </tr>\n",
       "  </tbody>\n",
       "</table>\n",
       "</div>"
      ],
      "text/plain": [
       "   Season  TeamID1  TeamID2  Rating  Rating_y      FTAR       ORP       DRP  \\\n",
       "0    2003     1104     1328      83        91  0.104750 -0.094771 -0.094771   \n",
       "1    2003     1272     1393      85        89 -0.007944  0.041667  0.041667   \n",
       "\n",
       "        PIE      eFGP  \n",
       "0 -0.065693 -0.057417  \n",
       "1 -0.204678 -0.080886  "
      ]
     },
     "execution_count": 103,
     "metadata": {},
     "output_type": "execute_result"
    }
   ],
   "source": [
    "df_trnL.head(2)"
   ]
  },
  {
   "cell_type": "code",
   "execution_count": 104,
   "metadata": {},
   "outputs": [],
   "source": [
    "df_trnW['Result'] = 1\n",
    "df_trnL['Result'] = 0"
   ]
  },
  {
   "cell_type": "code",
   "execution_count": 60,
   "metadata": {},
   "outputs": [],
   "source": [
    "df_trnW.rename(columns={'WTeamID': 'TeamID1', 'LTeamID': 'TeamID2'}, inplace=True)\n",
    "df_trnL.rename(columns={'WTeamID': 'TeamID1', 'LTeamID': 'TeamID2'}, inplace=True)"
   ]
  },
  {
   "cell_type": "code",
   "execution_count": 107,
   "metadata": {},
   "outputs": [],
   "source": [
    "#df_trnW.loc[:,['TeamID1', 'TeamID2']] = df.loc[:,['WTeamID', 'LTeamID']].values\n",
    "df_trnL.loc[:,['TeamID1', 'TeamID2']] = df_trnL.loc[:,['TeamID2', 'TeamID1']].values"
   ]
  },
  {
   "cell_type": "code",
   "execution_count": 108,
   "metadata": {},
   "outputs": [],
   "source": [
    "df_trn = pd.concat((df_trnW, df_trnL))"
   ]
  },
  {
   "cell_type": "code",
   "execution_count": 110,
   "metadata": {},
   "outputs": [
    {
     "data": {
      "text/html": [
       "<div>\n",
       "<style scoped>\n",
       "    .dataframe tbody tr th:only-of-type {\n",
       "        vertical-align: middle;\n",
       "    }\n",
       "\n",
       "    .dataframe tbody tr th {\n",
       "        vertical-align: top;\n",
       "    }\n",
       "\n",
       "    .dataframe thead th {\n",
       "        text-align: right;\n",
       "    }\n",
       "</style>\n",
       "<table border=\"1\" class=\"dataframe\">\n",
       "  <thead>\n",
       "    <tr style=\"text-align: right;\">\n",
       "      <th></th>\n",
       "      <th>Season</th>\n",
       "      <th>TeamID1</th>\n",
       "      <th>TeamID2</th>\n",
       "      <th>Rating</th>\n",
       "      <th>Rating_y</th>\n",
       "      <th>FTAR</th>\n",
       "      <th>ORP</th>\n",
       "      <th>DRP</th>\n",
       "      <th>PIE</th>\n",
       "      <th>eFGP</th>\n",
       "      <th>Result</th>\n",
       "    </tr>\n",
       "  </thead>\n",
       "  <tbody>\n",
       "    <tr>\n",
       "      <th>0</th>\n",
       "      <td>2003</td>\n",
       "      <td>1104</td>\n",
       "      <td>1328</td>\n",
       "      <td>83</td>\n",
       "      <td>91</td>\n",
       "      <td>-0.104750</td>\n",
       "      <td>0.094771</td>\n",
       "      <td>0.094771</td>\n",
       "      <td>0.065693</td>\n",
       "      <td>0.057417</td>\n",
       "      <td>1</td>\n",
       "    </tr>\n",
       "    <tr>\n",
       "      <th>1</th>\n",
       "      <td>2003</td>\n",
       "      <td>1272</td>\n",
       "      <td>1393</td>\n",
       "      <td>85</td>\n",
       "      <td>89</td>\n",
       "      <td>0.007944</td>\n",
       "      <td>-0.041667</td>\n",
       "      <td>-0.041667</td>\n",
       "      <td>0.204678</td>\n",
       "      <td>0.080886</td>\n",
       "      <td>1</td>\n",
       "    </tr>\n",
       "    <tr>\n",
       "      <th>2</th>\n",
       "      <td>2003</td>\n",
       "      <td>1266</td>\n",
       "      <td>1437</td>\n",
       "      <td>91</td>\n",
       "      <td>79</td>\n",
       "      <td>0.184932</td>\n",
       "      <td>-0.107962</td>\n",
       "      <td>-0.107962</td>\n",
       "      <td>0.472868</td>\n",
       "      <td>0.160841</td>\n",
       "      <td>1</td>\n",
       "    </tr>\n",
       "    <tr>\n",
       "      <th>3</th>\n",
       "      <td>2003</td>\n",
       "      <td>1296</td>\n",
       "      <td>1457</td>\n",
       "      <td>74</td>\n",
       "      <td>71</td>\n",
       "      <td>0.509667</td>\n",
       "      <td>-0.241453</td>\n",
       "      <td>-0.241453</td>\n",
       "      <td>0.509434</td>\n",
       "      <td>0.084586</td>\n",
       "      <td>1</td>\n",
       "    </tr>\n",
       "    <tr>\n",
       "      <th>4</th>\n",
       "      <td>2003</td>\n",
       "      <td>1400</td>\n",
       "      <td>1208</td>\n",
       "      <td>93</td>\n",
       "      <td>88</td>\n",
       "      <td>-0.222369</td>\n",
       "      <td>0.042878</td>\n",
       "      <td>0.042878</td>\n",
       "      <td>0.141463</td>\n",
       "      <td>0.105500</td>\n",
       "      <td>1</td>\n",
       "    </tr>\n",
       "  </tbody>\n",
       "</table>\n",
       "</div>"
      ],
      "text/plain": [
       "   Season  TeamID1  TeamID2  Rating  Rating_y      FTAR       ORP       DRP  \\\n",
       "0    2003     1104     1328      83        91 -0.104750  0.094771  0.094771   \n",
       "1    2003     1272     1393      85        89  0.007944 -0.041667 -0.041667   \n",
       "2    2003     1266     1437      91        79  0.184932 -0.107962 -0.107962   \n",
       "3    2003     1296     1457      74        71  0.509667 -0.241453 -0.241453   \n",
       "4    2003     1400     1208      93        88 -0.222369  0.042878  0.042878   \n",
       "\n",
       "        PIE      eFGP  Result  \n",
       "0  0.065693  0.057417       1  \n",
       "1  0.204678  0.080886       1  \n",
       "2  0.472868  0.160841       1  \n",
       "3  0.509434  0.084586       1  \n",
       "4  0.141463  0.105500       1  "
      ]
     },
     "execution_count": 110,
     "metadata": {},
     "output_type": "execute_result"
    }
   ],
   "source": [
    "df_trn.head()"
   ]
  },
  {
   "cell_type": "code",
   "execution_count": 63,
   "metadata": {},
   "outputs": [],
   "source": [
    "df_trn.to_csv(f'{PATH}tmp/df_trn.csv', index=False)"
   ]
  },
  {
   "cell_type": "code",
   "execution_count": 47,
   "metadata": {},
   "outputs": [],
   "source": [
    "df_trn = pd.read_csv(f'{PATH}tmp/df_trn.csv')"
   ]
  },
  {
   "cell_type": "code",
   "execution_count": null,
   "metadata": {},
   "outputs": [],
   "source": [
    "df_trn[['Rating', 'Rating_y']] = df_trn[['Rating', 'Rating_y']].fillna(0.0).astype(int)"
   ]
  },
  {
   "cell_type": "code",
   "execution_count": 49,
   "metadata": {},
   "outputs": [
    {
     "data": {
      "text/html": [
       "<div>\n",
       "<style scoped>\n",
       "    .dataframe tbody tr th:only-of-type {\n",
       "        vertical-align: middle;\n",
       "    }\n",
       "\n",
       "    .dataframe tbody tr th {\n",
       "        vertical-align: top;\n",
       "    }\n",
       "\n",
       "    .dataframe thead th {\n",
       "        text-align: right;\n",
       "    }\n",
       "</style>\n",
       "<table border=\"1\" class=\"dataframe\">\n",
       "  <thead>\n",
       "    <tr style=\"text-align: right;\">\n",
       "      <th></th>\n",
       "      <th>Season</th>\n",
       "      <th>TeamID1</th>\n",
       "      <th>TeamID2</th>\n",
       "      <th>FTAR</th>\n",
       "      <th>ORP</th>\n",
       "      <th>DRP</th>\n",
       "      <th>PIE</th>\n",
       "      <th>eFGP</th>\n",
       "      <th>Result</th>\n",
       "    </tr>\n",
       "  </thead>\n",
       "  <tbody>\n",
       "    <tr>\n",
       "      <th>0</th>\n",
       "      <td>2003</td>\n",
       "      <td>1104</td>\n",
       "      <td>1328</td>\n",
       "      <td>-0.104750</td>\n",
       "      <td>0.094771</td>\n",
       "      <td>0.094771</td>\n",
       "      <td>0.065693</td>\n",
       "      <td>0.057417</td>\n",
       "      <td>1</td>\n",
       "    </tr>\n",
       "    <tr>\n",
       "      <th>1</th>\n",
       "      <td>2003</td>\n",
       "      <td>1272</td>\n",
       "      <td>1393</td>\n",
       "      <td>0.007944</td>\n",
       "      <td>-0.041667</td>\n",
       "      <td>-0.041667</td>\n",
       "      <td>0.204678</td>\n",
       "      <td>0.080886</td>\n",
       "      <td>1</td>\n",
       "    </tr>\n",
       "    <tr>\n",
       "      <th>2</th>\n",
       "      <td>2003</td>\n",
       "      <td>1266</td>\n",
       "      <td>1437</td>\n",
       "      <td>0.184932</td>\n",
       "      <td>-0.107962</td>\n",
       "      <td>-0.107962</td>\n",
       "      <td>0.472868</td>\n",
       "      <td>0.160841</td>\n",
       "      <td>1</td>\n",
       "    </tr>\n",
       "  </tbody>\n",
       "</table>\n",
       "</div>"
      ],
      "text/plain": [
       "   Season  TeamID1  TeamID2      FTAR       ORP       DRP       PIE      eFGP  \\\n",
       "0    2003     1104     1328 -0.104750  0.094771  0.094771  0.065693  0.057417   \n",
       "1    2003     1272     1393  0.007944 -0.041667 -0.041667  0.204678  0.080886   \n",
       "2    2003     1266     1437  0.184932 -0.107962 -0.107962  0.472868  0.160841   \n",
       "\n",
       "   Result  \n",
       "0       1  \n",
       "1       1  \n",
       "2       1  "
      ]
     },
     "execution_count": 49,
     "metadata": {},
     "output_type": "execute_result"
    }
   ],
   "source": [
    "df_trn.head(3)"
   ]
  },
  {
   "cell_type": "markdown",
   "metadata": {},
   "source": [
    "## Test Data"
   ]
  },
  {
   "cell_type": "code",
   "execution_count": 20,
   "metadata": {},
   "outputs": [
    {
     "data": {
      "text/html": [
       "<div>\n",
       "<style scoped>\n",
       "    .dataframe tbody tr th:only-of-type {\n",
       "        vertical-align: middle;\n",
       "    }\n",
       "\n",
       "    .dataframe tbody tr th {\n",
       "        vertical-align: top;\n",
       "    }\n",
       "\n",
       "    .dataframe thead th {\n",
       "        text-align: right;\n",
       "    }\n",
       "</style>\n",
       "<table border=\"1\" class=\"dataframe\">\n",
       "  <thead>\n",
       "    <tr style=\"text-align: right;\">\n",
       "      <th></th>\n",
       "      <th>ID</th>\n",
       "      <th>Pred</th>\n",
       "    </tr>\n",
       "  </thead>\n",
       "  <tbody>\n",
       "    <tr>\n",
       "      <th>0</th>\n",
       "      <td>2018_1104_1112</td>\n",
       "      <td>0.5</td>\n",
       "    </tr>\n",
       "    <tr>\n",
       "      <th>1</th>\n",
       "      <td>2018_1104_1113</td>\n",
       "      <td>0.5</td>\n",
       "    </tr>\n",
       "    <tr>\n",
       "      <th>2</th>\n",
       "      <td>2018_1104_1116</td>\n",
       "      <td>0.5</td>\n",
       "    </tr>\n",
       "    <tr>\n",
       "      <th>3</th>\n",
       "      <td>2018_1104_1120</td>\n",
       "      <td>0.5</td>\n",
       "    </tr>\n",
       "    <tr>\n",
       "      <th>4</th>\n",
       "      <td>2018_1104_1137</td>\n",
       "      <td>0.5</td>\n",
       "    </tr>\n",
       "  </tbody>\n",
       "</table>\n",
       "</div>"
      ],
      "text/plain": [
       "               ID  Pred\n",
       "0  2018_1104_1112   0.5\n",
       "1  2018_1104_1113   0.5\n",
       "2  2018_1104_1116   0.5\n",
       "3  2018_1104_1120   0.5\n",
       "4  2018_1104_1137   0.5"
      ]
     },
     "execution_count": 20,
     "metadata": {},
     "output_type": "execute_result"
    }
   ],
   "source": [
    "sample_sub.head(5)"
   ]
  },
  {
   "cell_type": "code",
   "execution_count": 15,
   "metadata": {},
   "outputs": [],
   "source": [
    "#df_sample_sub = pd.read_csv(f'{PATH}SampleSubmissionStage1.csv')\n",
    "#df_sample_sub = pd.read_csv(f'{PATH}WSampleSubmissionStage1.csv')\n",
    "df_sample_sub = sample_sub\n",
    "\n",
    "def get_year_t1_t2(ID):\n",
    "    \"\"\"Return a tuple with ints `year`, `team1` and `team2`.\"\"\"\n",
    "    return (int(x) for x in ID.split('_'))\n",
    "\n",
    "n_test_games = len(df_sample_sub)"
   ]
  },
  {
   "cell_type": "code",
   "execution_count": 16,
   "metadata": {},
   "outputs": [
    {
     "data": {
      "text/plain": [
       "(164082, 9)"
      ]
     },
     "execution_count": 16,
     "metadata": {},
     "output_type": "execute_result"
    }
   ],
   "source": [
    "df_trn.shape"
   ]
  },
  {
   "cell_type": "code",
   "execution_count": null,
   "metadata": {},
   "outputs": [],
   "source": [
    "X_test = np.zeros(shape=(n_test_games, len(categories)+2))\n",
    "season = []\n",
    "team1 = []\n",
    "team2 = []\n",
    "for ii, row in df_sample_sub.iterrows():\n",
    "    year, t1, t2 = get_year_t1_t2(row.ID)\n",
    "    season.append(year)\n",
    "    team1.append(t1)\n",
    "    team2.append(t2)\n",
    "    ratings = np.hstack((get_ratings(t1, year, c), get_ratings(t2, year, c)))\n",
    "    #t1_rating = get_ratings(t1, year, c)\n",
    "    #t2_rating = get_ratings(t2, year, c)\n",
    "    #stats = np.hstack((diff_stats, t1_rating))\n",
    "    t1_stats = np.array(get_stats(t1, year, categories))\n",
    "    t2_stats = np.array(get_stats(t2, year, categories))\n",
    "    diff_stats = t1_stats - t2_stats\n",
    "    stats = np.hstack((ratings, diff_stats))\n",
    "    X_test[ii, :] = stats\n"
   ]
  },
  {
   "cell_type": "code",
   "execution_count": 114,
   "metadata": {},
   "outputs": [
    {
     "data": {
      "text/plain": [
       "array([[81.     , 86.     ,  0.03391, -0.04023, -0.05474, -0.07625, -0.05264],\n",
       "       [81.     , 83.     , -0.01017,  0.00767,  0.00659, -0.02814, -0.02393],\n",
       "       [81.     , 84.     ,  0.03871, -0.00513,  0.01832, -0.00535, -0.02296],\n",
       "       [81.     , 89.     ,  0.01913, -0.03707, -0.02087, -0.04004, -0.00343],\n",
       "       [81.     , 77.     , -0.01022,  0.01791, -0.02457, -0.04344, -0.02664]])"
      ]
     },
     "execution_count": 114,
     "metadata": {},
     "output_type": "execute_result"
    }
   ],
   "source": [
    "X_test[:5, :7]"
   ]
  },
  {
   "cell_type": "markdown",
   "metadata": {},
   "source": [
    "## Create Category Variables"
   ]
  },
  {
   "cell_type": "code",
   "execution_count": 24,
   "metadata": {},
   "outputs": [
    {
     "data": {
      "text/html": [
       "<div>\n",
       "<style scoped>\n",
       "    .dataframe tbody tr th:only-of-type {\n",
       "        vertical-align: middle;\n",
       "    }\n",
       "\n",
       "    .dataframe tbody tr th {\n",
       "        vertical-align: top;\n",
       "    }\n",
       "\n",
       "    .dataframe thead th {\n",
       "        text-align: right;\n",
       "    }\n",
       "</style>\n",
       "<table border=\"1\" class=\"dataframe\">\n",
       "  <thead>\n",
       "    <tr style=\"text-align: right;\">\n",
       "      <th></th>\n",
       "      <th>Season</th>\n",
       "      <th>TeamID1</th>\n",
       "      <th>TeamID2</th>\n",
       "      <th>FTAR</th>\n",
       "      <th>ORP</th>\n",
       "      <th>DRP</th>\n",
       "      <th>PIE</th>\n",
       "      <th>eFGP</th>\n",
       "      <th>Result</th>\n",
       "    </tr>\n",
       "  </thead>\n",
       "  <tbody>\n",
       "    <tr>\n",
       "      <th>164079</th>\n",
       "      <td>2018</td>\n",
       "      <td>1426</td>\n",
       "      <td>1209</td>\n",
       "      <td>0.134085</td>\n",
       "      <td>0.202381</td>\n",
       "      <td>0.202381</td>\n",
       "      <td>-0.294118</td>\n",
       "      <td>-0.184524</td>\n",
       "      <td>0</td>\n",
       "    </tr>\n",
       "    <tr>\n",
       "      <th>164080</th>\n",
       "      <td>2018</td>\n",
       "      <td>1397</td>\n",
       "      <td>1246</td>\n",
       "      <td>-0.157419</td>\n",
       "      <td>0.054131</td>\n",
       "      <td>0.054131</td>\n",
       "      <td>-0.198113</td>\n",
       "      <td>-0.118387</td>\n",
       "      <td>0</td>\n",
       "    </tr>\n",
       "    <tr>\n",
       "      <th>164081</th>\n",
       "      <td>2018</td>\n",
       "      <td>1217</td>\n",
       "      <td>1335</td>\n",
       "      <td>-0.089510</td>\n",
       "      <td>0.062500</td>\n",
       "      <td>0.062500</td>\n",
       "      <td>-0.089202</td>\n",
       "      <td>-0.056643</td>\n",
       "      <td>0</td>\n",
       "    </tr>\n",
       "  </tbody>\n",
       "</table>\n",
       "</div>"
      ],
      "text/plain": [
       "        Season  TeamID1  TeamID2      FTAR       ORP       DRP       PIE  \\\n",
       "164079    2018     1426     1209  0.134085  0.202381  0.202381 -0.294118   \n",
       "164080    2018     1397     1246 -0.157419  0.054131  0.054131 -0.198113   \n",
       "164081    2018     1217     1335 -0.089510  0.062500  0.062500 -0.089202   \n",
       "\n",
       "            eFGP  Result  \n",
       "164079 -0.184524       0  \n",
       "164080 -0.118387       0  \n",
       "164081 -0.056643       0  "
      ]
     },
     "execution_count": 24,
     "metadata": {},
     "output_type": "execute_result"
    }
   ],
   "source": [
    "df_trn.tail(3)"
   ]
  },
  {
   "cell_type": "code",
   "execution_count": 32,
   "metadata": {},
   "outputs": [],
   "source": [
    "cat_vars = ['TeamID1', 'TeamID2', 'Rating', 'Rating_y']\n",
    "\n",
    "contin_vars = [categories]"
   ]
  },
  {
   "cell_type": "code",
   "execution_count": null,
   "metadata": {},
   "outputs": [],
   "source": [
    "for v in cat_vars: df_trn[v] = df_trn[v].astype('category').cat.as_ordered()"
   ]
  },
  {
   "cell_type": "code",
   "execution_count": 117,
   "metadata": {},
   "outputs": [],
   "source": [
    "train_cats(df_trn)"
   ]
  },
  {
   "cell_type": "code",
   "execution_count": 119,
   "metadata": {},
   "outputs": [],
   "source": [
    "X_test_df = pd.DataFrame()"
   ]
  },
  {
   "cell_type": "code",
   "execution_count": 120,
   "metadata": {},
   "outputs": [],
   "source": [
    "X_test_df['TeamID1'], X_test_df['TeamID2'], X_test_df['Season'] = team1, team2, season"
   ]
  },
  {
   "cell_type": "code",
   "execution_count": 122,
   "metadata": {},
   "outputs": [],
   "source": [
    "X_test_df[['Rating', 'Rating_y']+categories] = pd.DataFrame(X_test)"
   ]
  },
  {
   "cell_type": "code",
   "execution_count": 123,
   "metadata": {},
   "outputs": [
    {
     "data": {
      "text/html": [
       "<div>\n",
       "<style scoped>\n",
       "    .dataframe tbody tr th:only-of-type {\n",
       "        vertical-align: middle;\n",
       "    }\n",
       "\n",
       "    .dataframe tbody tr th {\n",
       "        vertical-align: top;\n",
       "    }\n",
       "\n",
       "    .dataframe thead th {\n",
       "        text-align: right;\n",
       "    }\n",
       "</style>\n",
       "<table border=\"1\" class=\"dataframe\">\n",
       "  <thead>\n",
       "    <tr style=\"text-align: right;\">\n",
       "      <th></th>\n",
       "      <th>TeamID1</th>\n",
       "      <th>TeamID2</th>\n",
       "      <th>Season</th>\n",
       "      <th>Ranking</th>\n",
       "      <th>Ranking_y</th>\n",
       "      <th>FTAR</th>\n",
       "      <th>ORP</th>\n",
       "      <th>DRP</th>\n",
       "      <th>PIE</th>\n",
       "      <th>eFGP</th>\n",
       "    </tr>\n",
       "  </thead>\n",
       "  <tbody>\n",
       "    <tr>\n",
       "      <th>0</th>\n",
       "      <td>1104</td>\n",
       "      <td>1112</td>\n",
       "      <td>2018</td>\n",
       "      <td>81.0</td>\n",
       "      <td>86.0</td>\n",
       "      <td>0.033906</td>\n",
       "      <td>-0.040228</td>\n",
       "      <td>-0.054736</td>\n",
       "      <td>-0.076246</td>\n",
       "      <td>-0.052636</td>\n",
       "    </tr>\n",
       "    <tr>\n",
       "      <th>1</th>\n",
       "      <td>1104</td>\n",
       "      <td>1113</td>\n",
       "      <td>2018</td>\n",
       "      <td>81.0</td>\n",
       "      <td>83.0</td>\n",
       "      <td>-0.010167</td>\n",
       "      <td>0.007669</td>\n",
       "      <td>0.006590</td>\n",
       "      <td>-0.028141</td>\n",
       "      <td>-0.023935</td>\n",
       "    </tr>\n",
       "    <tr>\n",
       "      <th>2</th>\n",
       "      <td>1104</td>\n",
       "      <td>1116</td>\n",
       "      <td>2018</td>\n",
       "      <td>81.0</td>\n",
       "      <td>84.0</td>\n",
       "      <td>0.038708</td>\n",
       "      <td>-0.005134</td>\n",
       "      <td>0.018321</td>\n",
       "      <td>-0.005354</td>\n",
       "      <td>-0.022959</td>\n",
       "    </tr>\n",
       "  </tbody>\n",
       "</table>\n",
       "</div>"
      ],
      "text/plain": [
       "   TeamID1  TeamID2  Season  Ranking  Ranking_y      FTAR       ORP       DRP  \\\n",
       "0     1104     1112    2018     81.0       86.0  0.033906 -0.040228 -0.054736   \n",
       "1     1104     1113    2018     81.0       83.0 -0.010167  0.007669  0.006590   \n",
       "2     1104     1116    2018     81.0       84.0  0.038708 -0.005134  0.018321   \n",
       "\n",
       "        PIE      eFGP  \n",
       "0 -0.076246 -0.052636  \n",
       "1 -0.028141 -0.023935  \n",
       "2 -0.005354 -0.022959  "
      ]
     },
     "execution_count": 123,
     "metadata": {},
     "output_type": "execute_result"
    }
   ],
   "source": [
    "X_test_df.head(3)"
   ]
  },
  {
   "cell_type": "code",
   "execution_count": null,
   "metadata": {},
   "outputs": [],
   "source": [
    "#X_test_df.rename(columns={c : d for c,d in zip(X_test_df.columns, categories)}, inplace=True)"
   ]
  },
  {
   "cell_type": "code",
   "execution_count": null,
   "metadata": {},
   "outputs": [],
   "source": [
    "#X_test_df.rename(columns={5: 'Rating', 6: 'Rating_y'}, inplace=True)"
   ]
  },
  {
   "cell_type": "code",
   "execution_count": 156,
   "metadata": {},
   "outputs": [],
   "source": [
    "X_test_df.rename(columns={'Ranking_y': 'Rating_y'}, inplace=True)"
   ]
  },
  {
   "cell_type": "code",
   "execution_count": 157,
   "metadata": {},
   "outputs": [],
   "source": [
    "apply_cats(X_test_df, df_trn)"
   ]
  },
  {
   "cell_type": "code",
   "execution_count": 158,
   "metadata": {},
   "outputs": [],
   "source": [
    "for v in contin_vars:\n",
    "    df_trn[v] = df_trn[v].astype('float32')\n",
    "    X_test_df[v] = X_test_df[v].astype('float32')"
   ]
  },
  {
   "cell_type": "code",
   "execution_count": null,
   "metadata": {},
   "outputs": [],
   "source": [
    "#X_test_df['Season'] = X_test_df['Season'].astype(np.int64)"
   ]
  },
  {
   "cell_type": "code",
   "execution_count": 126,
   "metadata": {},
   "outputs": [],
   "source": [
    "X_test_df.drop('Season', inplace=True, axis=1)"
   ]
  },
  {
   "cell_type": "code",
   "execution_count": 127,
   "metadata": {},
   "outputs": [],
   "source": [
    "X_test_df['Result'] = 0"
   ]
  },
  {
   "cell_type": "code",
   "execution_count": null,
   "metadata": {},
   "outputs": [],
   "source": [
    "X_test_df.to_feather(f'{PATH}tmp/X_test_df')"
   ]
  },
  {
   "cell_type": "code",
   "execution_count": 27,
   "metadata": {},
   "outputs": [],
   "source": [
    "X_test_df = pd.read_feather(f'{PATH}tmp/X_test_df')"
   ]
  },
  {
   "cell_type": "code",
   "execution_count": 28,
   "metadata": {},
   "outputs": [
    {
     "data": {
      "text/html": [
       "<div>\n",
       "<style scoped>\n",
       "    .dataframe tbody tr th:only-of-type {\n",
       "        vertical-align: middle;\n",
       "    }\n",
       "\n",
       "    .dataframe tbody tr th {\n",
       "        vertical-align: top;\n",
       "    }\n",
       "\n",
       "    .dataframe thead th {\n",
       "        text-align: right;\n",
       "    }\n",
       "</style>\n",
       "<table border=\"1\" class=\"dataframe\">\n",
       "  <thead>\n",
       "    <tr style=\"text-align: right;\">\n",
       "      <th></th>\n",
       "      <th>FTAR</th>\n",
       "      <th>ORP</th>\n",
       "      <th>DRP</th>\n",
       "      <th>PIE</th>\n",
       "      <th>eFGP</th>\n",
       "      <th>Rating</th>\n",
       "      <th>Rating_y</th>\n",
       "      <th>TeamID1</th>\n",
       "      <th>TeamID2</th>\n",
       "      <th>Season</th>\n",
       "      <th>Result</th>\n",
       "    </tr>\n",
       "  </thead>\n",
       "  <tbody>\n",
       "    <tr>\n",
       "      <th>0</th>\n",
       "      <td>0.033906</td>\n",
       "      <td>-0.040228</td>\n",
       "      <td>-0.054736</td>\n",
       "      <td>-0.076246</td>\n",
       "      <td>-0.052636</td>\n",
       "      <td>81</td>\n",
       "      <td>86</td>\n",
       "      <td>1104</td>\n",
       "      <td>1112</td>\n",
       "      <td>2018</td>\n",
       "      <td>0</td>\n",
       "    </tr>\n",
       "    <tr>\n",
       "      <th>1</th>\n",
       "      <td>-0.010167</td>\n",
       "      <td>0.007669</td>\n",
       "      <td>0.006590</td>\n",
       "      <td>-0.028141</td>\n",
       "      <td>-0.023935</td>\n",
       "      <td>81</td>\n",
       "      <td>83</td>\n",
       "      <td>1104</td>\n",
       "      <td>1113</td>\n",
       "      <td>2018</td>\n",
       "      <td>0</td>\n",
       "    </tr>\n",
       "    <tr>\n",
       "      <th>2</th>\n",
       "      <td>0.038708</td>\n",
       "      <td>-0.005134</td>\n",
       "      <td>0.018321</td>\n",
       "      <td>-0.005354</td>\n",
       "      <td>-0.022959</td>\n",
       "      <td>81</td>\n",
       "      <td>84</td>\n",
       "      <td>1104</td>\n",
       "      <td>1116</td>\n",
       "      <td>2018</td>\n",
       "      <td>0</td>\n",
       "    </tr>\n",
       "  </tbody>\n",
       "</table>\n",
       "</div>"
      ],
      "text/plain": [
       "       FTAR       ORP       DRP       PIE      eFGP Rating Rating_y TeamID1  \\\n",
       "0  0.033906 -0.040228 -0.054736 -0.076246 -0.052636     81       86    1104   \n",
       "1 -0.010167  0.007669  0.006590 -0.028141 -0.023935     81       83    1104   \n",
       "2  0.038708 -0.005134  0.018321 -0.005354 -0.022959     81       84    1104   \n",
       "\n",
       "  TeamID2 Season  Result  \n",
       "0    1112   2018       0  \n",
       "1    1113   2018       0  \n",
       "2    1116   2018       0  "
      ]
     },
     "execution_count": 28,
     "metadata": {},
     "output_type": "execute_result"
    }
   ],
   "source": [
    "X_test_df.head(3)"
   ]
  },
  {
   "cell_type": "code",
   "execution_count": 29,
   "metadata": {},
   "outputs": [],
   "source": [
    "X_test_df['Result'] = X_test_df['Result'].astype(np.int64)"
   ]
  },
  {
   "cell_type": "code",
   "execution_count": 30,
   "metadata": {},
   "outputs": [
    {
     "data": {
      "text/plain": [
       "(2278, 11)"
      ]
     },
     "execution_count": 30,
     "metadata": {},
     "output_type": "execute_result"
    }
   ],
   "source": [
    "X_test_df.shape"
   ]
  },
  {
   "cell_type": "markdown",
   "metadata": {},
   "source": [
    "## Train Model"
   ]
  },
  {
   "cell_type": "code",
   "execution_count": null,
   "metadata": {},
   "outputs": [],
   "source": [
    "# used only for women's NCAA because of inf/-inf value in PIE\n",
    "df_trn.loc[df_trn.PIE>1, \"PIE\"] = 1\n",
    "df_trn.loc[df_trn.PIE<1, \"PIE\"] = -1"
   ]
  },
  {
   "cell_type": "code",
   "execution_count": null,
   "metadata": {},
   "outputs": [],
   "source": [
    "cat_sz = [(c, len(df_trn[c].cat.categories)+1) for c in cat_vars]"
   ]
  },
  {
   "cell_type": "code",
   "execution_count": 146,
   "metadata": {},
   "outputs": [
    {
     "data": {
      "text/plain": [
       "[('TeamID1', 356), ('TeamID2', 356), ('Rating', 40), ('Rating_y', 40)]"
      ]
     },
     "execution_count": 146,
     "metadata": {},
     "output_type": "execute_result"
    }
   ],
   "source": [
    "cat_sz"
   ]
  },
  {
   "cell_type": "code",
   "execution_count": 147,
   "metadata": {},
   "outputs": [],
   "source": [
    "emb_szs = [(c, min(50, (c+1)//2)) for _,c in cat_sz]"
   ]
  },
  {
   "cell_type": "code",
   "execution_count": 148,
   "metadata": {},
   "outputs": [
    {
     "data": {
      "text/plain": [
       "[(356, 50), (356, 50), (40, 20), (40, 20)]"
      ]
     },
     "execution_count": 148,
     "metadata": {},
     "output_type": "execute_result"
    }
   ],
   "source": [
    "emb_szs"
   ]
  },
  {
   "cell_type": "code",
   "execution_count": 149,
   "metadata": {},
   "outputs": [],
   "source": [
    "dep = 'Result'"
   ]
  },
  {
   "cell_type": "code",
   "execution_count": 150,
   "metadata": {},
   "outputs": [
    {
     "data": {
      "text/html": [
       "<div>\n",
       "<style scoped>\n",
       "    .dataframe tbody tr th:only-of-type {\n",
       "        vertical-align: middle;\n",
       "    }\n",
       "\n",
       "    .dataframe tbody tr th {\n",
       "        vertical-align: top;\n",
       "    }\n",
       "\n",
       "    .dataframe thead th {\n",
       "        text-align: right;\n",
       "    }\n",
       "</style>\n",
       "<table border=\"1\" class=\"dataframe\">\n",
       "  <thead>\n",
       "    <tr style=\"text-align: right;\">\n",
       "      <th></th>\n",
       "      <th>TeamID1</th>\n",
       "      <th>TeamID2</th>\n",
       "      <th>Rating</th>\n",
       "      <th>Rating_y</th>\n",
       "      <th>FTAR</th>\n",
       "      <th>ORP</th>\n",
       "      <th>DRP</th>\n",
       "      <th>PIE</th>\n",
       "      <th>eFGP</th>\n",
       "      <th>Result</th>\n",
       "    </tr>\n",
       "  </thead>\n",
       "  <tbody>\n",
       "    <tr>\n",
       "      <th>0</th>\n",
       "      <td>1104</td>\n",
       "      <td>1328</td>\n",
       "      <td>83</td>\n",
       "      <td>91</td>\n",
       "      <td>-0.104750</td>\n",
       "      <td>0.094771</td>\n",
       "      <td>0.094771</td>\n",
       "      <td>0.065693</td>\n",
       "      <td>0.057417</td>\n",
       "      <td>1</td>\n",
       "    </tr>\n",
       "    <tr>\n",
       "      <th>1</th>\n",
       "      <td>1272</td>\n",
       "      <td>1393</td>\n",
       "      <td>85</td>\n",
       "      <td>89</td>\n",
       "      <td>0.007944</td>\n",
       "      <td>-0.041667</td>\n",
       "      <td>-0.041667</td>\n",
       "      <td>0.204678</td>\n",
       "      <td>0.080886</td>\n",
       "      <td>1</td>\n",
       "    </tr>\n",
       "  </tbody>\n",
       "</table>\n",
       "</div>"
      ],
      "text/plain": [
       "  TeamID1 TeamID2 Rating Rating_y      FTAR       ORP       DRP       PIE  \\\n",
       "0    1104    1328     83       91 -0.104750  0.094771  0.094771  0.065693   \n",
       "1    1272    1393     85       89  0.007944 -0.041667 -0.041667  0.204678   \n",
       "\n",
       "       eFGP  Result  \n",
       "0  0.057417       1  \n",
       "1  0.080886       1  "
      ]
     },
     "execution_count": 150,
     "metadata": {},
     "output_type": "execute_result"
    }
   ],
   "source": [
    "df_trn = df_trn[cat_vars+categories+[dep]].copy()\n",
    "df_trn.head(2)"
   ]
  },
  {
   "cell_type": "code",
   "execution_count": 151,
   "metadata": {},
   "outputs": [
    {
     "data": {
      "text/html": [
       "<div>\n",
       "<style scoped>\n",
       "    .dataframe tbody tr th:only-of-type {\n",
       "        vertical-align: middle;\n",
       "    }\n",
       "\n",
       "    .dataframe tbody tr th {\n",
       "        vertical-align: top;\n",
       "    }\n",
       "\n",
       "    .dataframe thead th {\n",
       "        text-align: right;\n",
       "    }\n",
       "</style>\n",
       "<table border=\"1\" class=\"dataframe\">\n",
       "  <thead>\n",
       "    <tr style=\"text-align: right;\">\n",
       "      <th></th>\n",
       "      <th>TeamID1</th>\n",
       "      <th>TeamID2</th>\n",
       "      <th>Rating</th>\n",
       "      <th>Ranking_y</th>\n",
       "      <th>FTAR</th>\n",
       "      <th>ORP</th>\n",
       "      <th>DRP</th>\n",
       "      <th>PIE</th>\n",
       "      <th>eFGP</th>\n",
       "      <th>Result</th>\n",
       "    </tr>\n",
       "  </thead>\n",
       "  <tbody>\n",
       "    <tr>\n",
       "      <th>0</th>\n",
       "      <td>1104</td>\n",
       "      <td>1112</td>\n",
       "      <td>81</td>\n",
       "      <td>86.0</td>\n",
       "      <td>0.033906</td>\n",
       "      <td>-0.040228</td>\n",
       "      <td>-0.054736</td>\n",
       "      <td>-0.076246</td>\n",
       "      <td>-0.052636</td>\n",
       "      <td>0</td>\n",
       "    </tr>\n",
       "    <tr>\n",
       "      <th>1</th>\n",
       "      <td>1104</td>\n",
       "      <td>1113</td>\n",
       "      <td>81</td>\n",
       "      <td>83.0</td>\n",
       "      <td>-0.010167</td>\n",
       "      <td>0.007669</td>\n",
       "      <td>0.006590</td>\n",
       "      <td>-0.028141</td>\n",
       "      <td>-0.023935</td>\n",
       "      <td>0</td>\n",
       "    </tr>\n",
       "  </tbody>\n",
       "</table>\n",
       "</div>"
      ],
      "text/plain": [
       "  TeamID1 TeamID2 Rating  Ranking_y      FTAR       ORP       DRP       PIE  \\\n",
       "0    1104    1112     81       86.0  0.033906 -0.040228 -0.054736 -0.076246   \n",
       "1    1104    1113     81       83.0 -0.010167  0.007669  0.006590 -0.028141   \n",
       "\n",
       "       eFGP  Result  \n",
       "0 -0.052636       0  \n",
       "1 -0.023935       0  "
      ]
     },
     "execution_count": 151,
     "metadata": {},
     "output_type": "execute_result"
    }
   ],
   "source": [
    "X_test_df.head(2)"
   ]
  },
  {
   "cell_type": "code",
   "execution_count": null,
   "metadata": {},
   "outputs": [],
   "source": [
    "df_trn.to_csv(f'{PATH}tmp/df_trn.csv', index=False)"
   ]
  },
  {
   "cell_type": "code",
   "execution_count": 25,
   "metadata": {},
   "outputs": [],
   "source": [
    "df_trn = pd.read_csv(f'{PATH}tmp/df_trn.csv')"
   ]
  },
  {
   "cell_type": "code",
   "execution_count": 26,
   "metadata": {},
   "outputs": [],
   "source": [
    "trn_df, y, nas, mapper = proc_df(df_trn, 'Result', do_scale=True)"
   ]
  },
  {
   "cell_type": "code",
   "execution_count": 161,
   "metadata": {},
   "outputs": [],
   "source": [
    "val_idx = get_cv_idxs(len(trn_df), val_pct=0.2)"
   ]
  },
  {
   "cell_type": "code",
   "execution_count": 162,
   "metadata": {},
   "outputs": [],
   "source": [
    "df_test, _, nas, mapper = proc_df(X_test_df, 'Result', do_scale=True, skip_flds=None,\n",
    "                                  mapper=mapper, na_dict=nas)"
   ]
  },
  {
   "cell_type": "code",
   "execution_count": null,
   "metadata": {},
   "outputs": [],
   "source": [
    "#df_test.drop('Season', inplace=True, axis=1)"
   ]
  },
  {
   "cell_type": "code",
   "execution_count": 163,
   "metadata": {},
   "outputs": [
    {
     "data": {
      "text/html": [
       "<div>\n",
       "<style scoped>\n",
       "    .dataframe tbody tr th:only-of-type {\n",
       "        vertical-align: middle;\n",
       "    }\n",
       "\n",
       "    .dataframe tbody tr th {\n",
       "        vertical-align: top;\n",
       "    }\n",
       "\n",
       "    .dataframe thead th {\n",
       "        text-align: right;\n",
       "    }\n",
       "</style>\n",
       "<table border=\"1\" class=\"dataframe\">\n",
       "  <thead>\n",
       "    <tr style=\"text-align: right;\">\n",
       "      <th></th>\n",
       "      <th>TeamID1</th>\n",
       "      <th>TeamID2</th>\n",
       "      <th>Rating</th>\n",
       "      <th>Rating_y</th>\n",
       "      <th>FTAR</th>\n",
       "      <th>ORP</th>\n",
       "      <th>DRP</th>\n",
       "      <th>PIE</th>\n",
       "      <th>eFGP</th>\n",
       "    </tr>\n",
       "  </thead>\n",
       "  <tbody>\n",
       "    <tr>\n",
       "      <th>0</th>\n",
       "      <td>4</td>\n",
       "      <td>221</td>\n",
       "      <td>25</td>\n",
       "      <td>33</td>\n",
       "      <td>-0.460979</td>\n",
       "      <td>0.708397</td>\n",
       "      <td>0.708397</td>\n",
       "      <td>0.168876</td>\n",
       "      <td>0.450967</td>\n",
       "    </tr>\n",
       "    <tr>\n",
       "      <th>1</th>\n",
       "      <td>167</td>\n",
       "      <td>286</td>\n",
       "      <td>27</td>\n",
       "      <td>31</td>\n",
       "      <td>0.034960</td>\n",
       "      <td>-0.311450</td>\n",
       "      <td>-0.311450</td>\n",
       "      <td>0.526162</td>\n",
       "      <td>0.635296</td>\n",
       "    </tr>\n",
       "    <tr>\n",
       "      <th>2</th>\n",
       "      <td>161</td>\n",
       "      <td>329</td>\n",
       "      <td>33</td>\n",
       "      <td>21</td>\n",
       "      <td>0.813842</td>\n",
       "      <td>-0.806996</td>\n",
       "      <td>-0.806996</td>\n",
       "      <td>1.215591</td>\n",
       "      <td>1.263280</td>\n",
       "    </tr>\n",
       "  </tbody>\n",
       "</table>\n",
       "</div>"
      ],
      "text/plain": [
       "   TeamID1  TeamID2  Rating  Rating_y      FTAR       ORP       DRP       PIE  \\\n",
       "0        4      221      25        33 -0.460979  0.708397  0.708397  0.168876   \n",
       "1      167      286      27        31  0.034960 -0.311450 -0.311450  0.526162   \n",
       "2      161      329      33        21  0.813842 -0.806996 -0.806996  1.215591   \n",
       "\n",
       "       eFGP  \n",
       "0  0.450967  \n",
       "1  0.635296  \n",
       "2  1.263280  "
      ]
     },
     "execution_count": 163,
     "metadata": {},
     "output_type": "execute_result"
    }
   ],
   "source": [
    "trn_df.head(3)"
   ]
  },
  {
   "cell_type": "code",
   "execution_count": 164,
   "metadata": {},
   "outputs": [
    {
     "data": {
      "text/html": [
       "<div>\n",
       "<style scoped>\n",
       "    .dataframe tbody tr th:only-of-type {\n",
       "        vertical-align: middle;\n",
       "    }\n",
       "\n",
       "    .dataframe tbody tr th {\n",
       "        vertical-align: top;\n",
       "    }\n",
       "\n",
       "    .dataframe thead th {\n",
       "        text-align: right;\n",
       "    }\n",
       "</style>\n",
       "<table border=\"1\" class=\"dataframe\">\n",
       "  <thead>\n",
       "    <tr style=\"text-align: right;\">\n",
       "      <th></th>\n",
       "      <th>TeamID1</th>\n",
       "      <th>TeamID2</th>\n",
       "      <th>Rating</th>\n",
       "      <th>Rating_y</th>\n",
       "      <th>FTAR</th>\n",
       "      <th>ORP</th>\n",
       "      <th>DRP</th>\n",
       "      <th>PIE</th>\n",
       "      <th>eFGP</th>\n",
       "    </tr>\n",
       "  </thead>\n",
       "  <tbody>\n",
       "    <tr>\n",
       "      <th>0</th>\n",
       "      <td>4</td>\n",
       "      <td>11</td>\n",
       "      <td>23</td>\n",
       "      <td>28</td>\n",
       "      <td>0.149212</td>\n",
       "      <td>-0.300698</td>\n",
       "      <td>-0.409144</td>\n",
       "      <td>-0.196003</td>\n",
       "      <td>-0.413416</td>\n",
       "    </tr>\n",
       "    <tr>\n",
       "      <th>1</th>\n",
       "      <td>4</td>\n",
       "      <td>12</td>\n",
       "      <td>23</td>\n",
       "      <td>25</td>\n",
       "      <td>-0.044744</td>\n",
       "      <td>0.057323</td>\n",
       "      <td>0.049258</td>\n",
       "      <td>-0.072341</td>\n",
       "      <td>-0.187990</td>\n",
       "    </tr>\n",
       "    <tr>\n",
       "      <th>2</th>\n",
       "      <td>4</td>\n",
       "      <td>15</td>\n",
       "      <td>23</td>\n",
       "      <td>26</td>\n",
       "      <td>0.170346</td>\n",
       "      <td>-0.038377</td>\n",
       "      <td>0.136944</td>\n",
       "      <td>-0.013762</td>\n",
       "      <td>-0.180326</td>\n",
       "    </tr>\n",
       "  </tbody>\n",
       "</table>\n",
       "</div>"
      ],
      "text/plain": [
       "   TeamID1  TeamID2  Rating  Rating_y      FTAR       ORP       DRP       PIE  \\\n",
       "0        4       11      23        28  0.149212 -0.300698 -0.409144 -0.196003   \n",
       "1        4       12      23        25 -0.044744  0.057323  0.049258 -0.072341   \n",
       "2        4       15      23        26  0.170346 -0.038377  0.136944 -0.013762   \n",
       "\n",
       "       eFGP  \n",
       "0 -0.413416  \n",
       "1 -0.187990  \n",
       "2 -0.180326  "
      ]
     },
     "execution_count": 164,
     "metadata": {},
     "output_type": "execute_result"
    }
   ],
   "source": [
    "df_test.head(3)"
   ]
  },
  {
   "cell_type": "code",
   "execution_count": 165,
   "metadata": {},
   "outputs": [],
   "source": [
    "md = ColumnarModelData.from_data_frame(PATH, val_idx, trn_df, y.astype(np.int64), \n",
    "                                       cat_flds=cat_vars, bs=128, test_df=df_test)"
   ]
  },
  {
   "cell_type": "code",
   "execution_count": 166,
   "metadata": {},
   "outputs": [],
   "source": [
    "#m = md.get_learner(emb_szs, len(trn_df.columns)-len(cat_vars),\n",
    " #                  0.04, 1, [1000,500], [0.001,0.01])\n",
    "model = MixedInputModel(emb_szs, n_cont=0, emb_drop=0, out_sz=1, szs=[500], drops=[0.5]).cuda()"
   ]
  },
  {
   "cell_type": "code",
   "execution_count": 167,
   "metadata": {},
   "outputs": [],
   "source": [
    "bm = BasicModel(model, 'binary_classifier')"
   ]
  },
  {
   "cell_type": "code",
   "execution_count": 168,
   "metadata": {},
   "outputs": [],
   "source": [
    "m = StructuredLearner(md, bm)"
   ]
  },
  {
   "cell_type": "code",
   "execution_count": 169,
   "metadata": {},
   "outputs": [
    {
     "data": {
      "text/plain": [
       "<function torch.nn.functional.cross_entropy>"
      ]
     },
     "execution_count": 169,
     "metadata": {},
     "output_type": "execute_result"
    }
   ],
   "source": [
    "m.crit = F.cross_entropy\n",
    "m.crit"
   ]
  },
  {
   "cell_type": "code",
   "execution_count": null,
   "metadata": {},
   "outputs": [],
   "source": [
    "m.lr_find()"
   ]
  },
  {
   "cell_type": "code",
   "execution_count": null,
   "metadata": {},
   "outputs": [],
   "source": [
    "m.sched.plot()"
   ]
  },
  {
   "cell_type": "code",
   "execution_count": null,
   "metadata": {},
   "outputs": [],
   "source": [
    "lr = 1e-1\n",
    "m.fit(lr, 3)"
   ]
  },
  {
   "cell_type": "code",
   "execution_count": null,
   "metadata": {},
   "outputs": [],
   "source": [
    "preds,y = m.predict_with_targs(True)"
   ]
  },
  {
   "cell_type": "code",
   "execution_count": null,
   "metadata": {},
   "outputs": [],
   "source": [
    "preds[:5]"
   ]
  },
  {
   "cell_type": "code",
   "execution_count": null,
   "metadata": {},
   "outputs": [],
   "source": [
    "#preds = np.clip(preds, 0.05, 0.95)\n",
    "metrics.log_loss(y, preds, eps=0.05)"
   ]
  },
  {
   "cell_type": "code",
   "execution_count": null,
   "metadata": {},
   "outputs": [],
   "source": [
    "np.exp(-0.37697)"
   ]
  },
  {
   "cell_type": "code",
   "execution_count": null,
   "metadata": {},
   "outputs": [],
   "source": [
    "accuracy_np(preds, y)"
   ]
  },
  {
   "cell_type": "code",
   "execution_count": null,
   "metadata": {},
   "outputs": [],
   "source": [
    "m.save('trn_1')"
   ]
  },
  {
   "cell_type": "code",
   "execution_count": null,
   "metadata": {},
   "outputs": [],
   "source": [
    "m.load('trn_1')"
   ]
  },
  {
   "cell_type": "code",
   "execution_count": null,
   "metadata": {},
   "outputs": [],
   "source": [
    "# for women ncaa\n",
    "m.save('trn_1')"
   ]
  },
  {
   "cell_type": "code",
   "execution_count": null,
   "metadata": {},
   "outputs": [],
   "source": [
    "# for women ncaa\n",
    "m.load('trn_1')"
   ]
  },
  {
   "cell_type": "code",
   "execution_count": null,
   "metadata": {},
   "outputs": [],
   "source": [
    "pred_test = m.predict(True)"
   ]
  },
  {
   "cell_type": "code",
   "execution_count": null,
   "metadata": {},
   "outputs": [],
   "source": [
    "pred_test = np.clip(pred_test, 0.05, 0.95)"
   ]
  },
  {
   "cell_type": "code",
   "execution_count": null,
   "metadata": {},
   "outputs": [],
   "source": [
    "df_test['Result'] = pred_test"
   ]
  },
  {
   "cell_type": "code",
   "execution_count": null,
   "metadata": {},
   "outputs": [],
   "source": [
    "rows = np.random.choice(df_test.index.values, 5)\n",
    "sampled_df = df_test.iloc[rows]\n",
    "sampled_df"
   ]
  },
  {
   "cell_type": "code",
   "execution_count": null,
   "metadata": {},
   "outputs": [],
   "source": [
    "df_test.head(3)"
   ]
  },
  {
   "cell_type": "code",
   "execution_count": null,
   "metadata": {},
   "outputs": [],
   "source": [
    "df_sample_sub.head(3)"
   ]
  },
  {
   "cell_type": "code",
   "execution_count": null,
   "metadata": {},
   "outputs": [],
   "source": [
    "df_sample_sub['Pred'] = pred_test"
   ]
  },
  {
   "cell_type": "code",
   "execution_count": null,
   "metadata": {},
   "outputs": [],
   "source": [
    "df_sample_sub.iloc[100:110]"
   ]
  },
  {
   "cell_type": "code",
   "execution_count": null,
   "metadata": {},
   "outputs": [],
   "source": [
    "df_sample_sub.to_csv(f'{PATH}submissions/sub1.csv', index=False)"
   ]
  },
  {
   "cell_type": "code",
   "execution_count": null,
   "metadata": {},
   "outputs": [],
   "source": [
    "sample_sub = pd.read_csv(f'{PATH}submissions/sub1.csv')"
   ]
  },
  {
   "cell_type": "markdown",
   "metadata": {},
   "source": [
    "## Load the Training Data (from Basic Starter Kernel)"
   ]
  },
  {
   "cell_type": "markdown",
   "metadata": {},
   "source": [
    "Adapted from Julia Elliot's [Basic Starter Kernel - NCAA Men's Dataset](https://www.kaggle.com/juliaelliott/basic-starter-kernel-ncaa-men-s-dataset)."
   ]
  },
  {
   "cell_type": "code",
   "execution_count": null,
   "metadata": {},
   "outputs": [],
   "source": [
    "df_seeds = pd.read_csv(PATH+'NCAATourneySeeds.csv')\n",
    "df_tour = pd.read_csv(PATH+'NCAATourneyCompactResults.csv')"
   ]
  },
  {
   "cell_type": "code",
   "execution_count": null,
   "metadata": {},
   "outputs": [],
   "source": [
    "df_seeds = df_seeds[df_seeds['Season']>=2003]\n",
    "df_tour = df_tour[df_tour['Season']>=2003]"
   ]
  },
  {
   "cell_type": "code",
   "execution_count": null,
   "metadata": {},
   "outputs": [],
   "source": [
    "df_seeds.head()"
   ]
  },
  {
   "cell_type": "code",
   "execution_count": null,
   "metadata": {},
   "outputs": [],
   "source": [
    "df_tour.head()"
   ]
  },
  {
   "cell_type": "code",
   "execution_count": null,
   "metadata": {},
   "outputs": [],
   "source": [
    "def seed_to_int(seed):\n",
    "    #Get just the digits from the seeding. Return as int\n",
    "    s_int = int(seed[1:3])\n",
    "    return s_int\n",
    "df_seeds['seed_int'] = df_seeds.Seed.apply(seed_to_int)\n",
    "df_seeds.drop(labels=['Seed'], inplace=True, axis=1) # This is the string label\n",
    "df_seeds.head()"
   ]
  },
  {
   "cell_type": "code",
   "execution_count": null,
   "metadata": {},
   "outputs": [],
   "source": [
    "df_tour.drop(labels=['DayNum', 'WScore', 'LScore', 'WLoc', 'NumOT'], inplace=True, axis=1)\n",
    "df_tour.head()"
   ]
  },
  {
   "cell_type": "code",
   "execution_count": null,
   "metadata": {},
   "outputs": [],
   "source": [
    "df_seeds = df_seeds.merge(df_teams, 'left', ['Season', 'TeamID'])"
   ]
  },
  {
   "cell_type": "code",
   "execution_count": null,
   "metadata": {},
   "outputs": [],
   "source": [
    "# merge the seeds with their corresponding TeamID's in the compact results dataframe\n",
    "df_winseeds = df_seeds.rename(columns={'TeamID':'WTeamID', 'seed_int':'WSeed'})\n",
    "df_lossseeds = df_seeds.rename(columns={'TeamID':'LTeamID', 'seed_int':'LSeed'})\n",
    "df_dummy = pd.merge(left=df_tour, right=df_winseeds, how='left', on=['Season', 'WTeamID'])\n",
    "df_concat = pd.merge(left=df_dummy, right=df_lossseeds, on=['Season', 'LTeamID'])\n",
    "df_concat['SeedDiff'] = df_concat.WSeed - df_concat.LSeed\n",
    "df_concat.head()"
   ]
  },
  {
   "cell_type": "code",
   "execution_count": null,
   "metadata": {},
   "outputs": [],
   "source": []
  }
 ],
 "metadata": {
  "kernelspec": {
   "display_name": "Python 3",
   "language": "python",
   "name": "python3"
  },
  "language_info": {
   "codemirror_mode": {
    "name": "ipython",
    "version": 3
   },
   "file_extension": ".py",
   "mimetype": "text/x-python",
   "name": "python",
   "nbconvert_exporter": "python",
   "pygments_lexer": "ipython3",
   "version": "3.6.5"
  }
 },
 "nbformat": 4,
 "nbformat_minor": 2
}
